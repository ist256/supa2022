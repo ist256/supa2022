{
 "cells": [
  {
   "cell_type": "markdown",
   "metadata": {
    "slideshow": {
     "slide_type": "slide"
    }
   },
   "source": [
    "# IST256 Lesson 04\n",
    "## Iterations\n",
    "\n",
    "\n",
    "- Zybook Ch 4\n",
    "- P4E Ch5\n",
    "\n",
    "\n"
   ]
  },
  {
   "cell_type": "markdown",
   "metadata": {
    "slideshow": {
     "slide_type": "slide"
    }
   },
   "source": [
    "# Agenda\n",
    "\n",
    "- Exam 1 this week.. Check Blackboard Announcements.\n",
    "- Go over HW 03\n",
    "\n",
    "### Iterations \n",
    "- Make our code execute in a non linear fashion.\n",
    "- Definite loops (for loops) and iterators.\n",
    "- Indefinite looping, infinite loops, and the break and continue statements\n",
    "- How to build complex loops easily. \n"
   ]
  },
  {
   "cell_type": "markdown",
   "metadata": {
    "slideshow": {
     "slide_type": "slide"
    }
   },
   "source": [
    "# Connect Activity\n",
    "\n",
    "Select the line number where the **increment** occurs: "
   ]
  },
  {
   "cell_type": "code",
   "execution_count": null,
   "metadata": {
    "slideshow": {
     "slide_type": "fragment"
    }
   },
   "outputs": [],
   "source": [
    "i,j,k = 1, 20, 1\n",
    "while (i<j):\n",
    "    n = k*(j-i)\n",
    "    print(n)\n",
    "    i = i + 1\n",
    "    j = j - 1\n",
    "    k = k * 5"
   ]
  },
  {
   "cell_type": "markdown",
   "metadata": {
    "slideshow": {
     "slide_type": "fragment"
    }
   },
   "source": [
    "A. `4`  \n",
    "B. `5`  \n",
    "C. `6`  \n",
    "D. `7`  \n",
    "\n",
    "### Vote Now: [https://poll.ist256.com](https://poll.ist256.com)"
   ]
  },
  {
   "cell_type": "markdown",
   "metadata": {
    "slideshow": {
     "slide_type": "slide"
    }
   },
   "source": [
    "# Increment and Decrement\n",
    "\n",
    "- **Increment** means to add a value to a variable.  \n",
    "  `X = X + 1`\n",
    "- **Decrement** means to subtract a value from a variable.  \n",
    "  `X = X - 1`\n",
    "- These are common patterns in iteration statements which you will see today. \n"
   ]
  },
  {
   "cell_type": "markdown",
   "metadata": {
    "slideshow": {
     "slide_type": "slide"
    }
   },
   "source": [
    "# Anatomy of a loop\n",
    "\n",
    "- A **Loop** is a sequence of code that repeats as long as a Boolean expression is <font color=\"green\">True </font>. \n"
   ]
  },
  {
   "cell_type": "code",
   "execution_count": 3,
   "metadata": {
    "slideshow": {
     "slide_type": "fragment"
    }
   },
   "outputs": [
    {
     "name": "stdout",
     "output_type": "stream",
     "text": [
      "The value of x is 1\n",
      "The value of x is 2\n",
      "The value of x is 3\n",
      "The value of x is 4\n",
      "The value of x is 5\n",
      "The value of x is 6\n",
      "The value of x is 7\n",
      "The value of x is 8\n",
      "The value of x is 9\n",
      "The value of x is 10\n",
      "The value of x is 11\n",
      "The value of x is 12\n",
      "The value of x is 13\n",
      "The value of x is 14\n",
      "The value of x is 15\n",
      "The value of x is 16\n",
      "The value of x is 17\n",
      "The value of x is 18\n",
      "The value of x is 19\n",
      "The value of x is 20\n",
      "The value of x is 21\n",
      "The value of x is 22\n",
      "The value of x is 23\n",
      "The value of x is 24\n",
      "The value of x is 25\n",
      "The value of x is 26\n",
      "The value of x is 27\n",
      "The value of x is 28\n",
      "The value of x is 29\n",
      "The value of x is 30\n",
      "The value of x is 31\n",
      "The value of x is 32\n",
      "The value of x is 33\n",
      "The value of x is 34\n",
      "The value of x is 35\n",
      "The value of x is 36\n",
      "The value of x is 37\n",
      "The value of x is 38\n",
      "The value of x is 39\n",
      "The value of x is 40\n"
     ]
    }
   ],
   "source": [
    "x = 1\n",
    "while x<=40:\n",
    "    print(f\"The value of x is {x}\")\n",
    "    x = x + 1\n",
    "   \n",
    "#print(x)"
   ]
  },
  {
   "cell_type": "markdown",
   "metadata": {
    "slideshow": {
     "slide_type": "fragment"
    }
   },
   "source": [
    "- The sequence of code that repeats is known as the **Body**.\n",
    "- The Boolean expression which is tested is known as the **Test Condition** or **Exit Condition**.\n",
    "- Variables which are part of the Test condition are called **Loop Control Variables** or **Iteration Variables**. \n",
    "- Our goal is to make the Test condition False so that the loop stops. This is accomplished through changing the loop control variable within the body of the loop."
   ]
  },
  {
   "cell_type": "markdown",
   "metadata": {
    "slideshow": {
     "slide_type": "slide"
    }
   },
   "source": [
    "# Watch Me Code 1\n",
    "\n",
    "  ## Say My Name:\n",
    "- This program will say you name a number of times.\n",
    "- This is an example of a **Definite loop** because the number of iterations are pre-determined.\n"
   ]
  },
  {
   "cell_type": "markdown",
   "metadata": {
    "slideshow": {
     "slide_type": "slide"
    }
   },
   "source": [
    "# Check Yourself: Loop\n",
    "\n",
    "on which line is the test / exit condition?"
   ]
  },
  {
   "cell_type": "code",
   "execution_count": 4,
   "metadata": {
    "slideshow": {
     "slide_type": "fragment"
    }
   },
   "outputs": [
    {
     "name": "stdout",
     "output_type": "stream",
     "text": [
      "1 2 3 4 5\n"
     ]
    }
   ],
   "source": [
    "x = 1\n",
    "while x<5:\n",
    "    print(x, end=\" \")\n",
    "    x = x + 1\n",
    "    \n",
    "print(x)"
   ]
  },
  {
   "cell_type": "markdown",
   "metadata": {
    "slideshow": {
     "slide_type": "fragment"
    }
   },
   "source": [
    "A. `1`  \n",
    "B. `2`  \n",
    "C. `3`  \n",
    "D. `4`  \n",
    "\n",
    "### Vote Now: [https://poll.ist256.com](https://poll.ist256.com)"
   ]
  },
  {
   "cell_type": "markdown",
   "metadata": {
    "slideshow": {
     "slide_type": "slide"
    }
   },
   "source": [
    "# For Loop\n",
    "\n",
    "- The **For Loop** iterates over a python list, string, or range of numbers. \n",
    "- It is the preferred statement for **Definite loops**, where the number of iterations are pre-determined. Definite loops do not require an exit condition.\n",
    "- The for loop uses an **iterator** to select each item from the list or range and take action in the loop body. \n",
    "- The **range()** function is useful for getting an iterator of numbers.\n",
    "- The for loop and iterate over any iterable. \n"
   ]
  },
  {
   "cell_type": "code",
   "execution_count": null,
   "metadata": {
    "slideshow": {
     "slide_type": "fragment"
    }
   },
   "outputs": [],
   "source": [
    "for i in range(3):\n",
    "    print(\"Hello \")\n",
    "    \n",
    "for char in \"mike\":\n",
    "    print (char)"
   ]
  },
  {
   "cell_type": "markdown",
   "metadata": {
    "slideshow": {
     "slide_type": "slide"
    }
   },
   "source": [
    "# Range\n",
    "\n",
    "- The `range()` function returns an iterable.\n",
    "- `range(n)` returns `n` iterations from `0` to `n-1`"
   ]
  },
  {
   "cell_type": "code",
   "execution_count": null,
   "metadata": {
    "slideshow": {
     "slide_type": "fragment"
    }
   },
   "outputs": [],
   "source": [
    "print(\"range(10) =>\", list(range(10)) )\n",
    "print(\"range(1,10) =>\", list(range(1,10)) )\n",
    "print(\"range(1,10,2) =>\",list(range(1,10,2)) )"
   ]
  },
  {
   "cell_type": "markdown",
   "metadata": {
    "slideshow": {
     "slide_type": "slide"
    }
   },
   "source": [
    "# Watch Me Code 2\n",
    "\n",
    "## Say My Name:\n",
    "\n",
    "- Range() function\n",
    "- ***Refactored*** as a For Loop.\n"
   ]
  },
  {
   "cell_type": "markdown",
   "metadata": {
    "slideshow": {
     "slide_type": "slide"
    }
   },
   "source": [
    "# Check Yourself: For Range 1\n",
    "\n",
    "How many iterations are in this loop? "
   ]
  },
  {
   "cell_type": "code",
   "execution_count": 5,
   "metadata": {
    "slideshow": {
     "slide_type": "fragment"
    }
   },
   "outputs": [
    {
     "ename": "NameError",
     "evalue": "name 'k' is not defined",
     "output_type": "error",
     "traceback": [
      "\u001b[0;31m---------------------------------------------------------------------------\u001b[0m",
      "\u001b[0;31mNameError\u001b[0m                                 Traceback (most recent call last)",
      "Input \u001b[0;32mIn [5]\u001b[0m, in \u001b[0;36m<module>\u001b[0;34m\u001b[0m\n\u001b[1;32m      2\u001b[0m \u001b[38;5;66;03m#j = 10\u001b[39;00m\n\u001b[1;32m      3\u001b[0m \u001b[38;5;28;01mfor\u001b[39;00m j \u001b[38;5;129;01min\u001b[39;00m \u001b[38;5;28mrange\u001b[39m(\u001b[38;5;241m5\u001b[39m):\n\u001b[0;32m----> 4\u001b[0m     k \u001b[38;5;241m=\u001b[39m \u001b[43mk\u001b[49m \u001b[38;5;241m+\u001b[39m j\n\u001b[1;32m      5\u001b[0m     \u001b[38;5;28mprint\u001b[39m(k)\n\u001b[1;32m      6\u001b[0m \u001b[38;5;28mprint\u001b[39m(\u001b[38;5;124m\"\u001b[39m\u001b[38;5;124mj=\u001b[39m\u001b[38;5;124m\"\u001b[39m,j)\n",
      "\u001b[0;31mNameError\u001b[0m: name 'k' is not defined"
     ]
    }
   ],
   "source": [
    "del k\n",
    "#j = 10\n",
    "for j in range(5):\n",
    "    k = k + j\n",
    "    print(k)\n",
    "print(\"j=\",j)"
   ]
  },
  {
   "cell_type": "markdown",
   "metadata": {
    "slideshow": {
     "slide_type": "fragment"
    }
   },
   "source": [
    "A. `0`  \n",
    "B. `10`  \n",
    "C. `5`  \n",
    "D. `Unknown`  \n",
    "\n",
    "### Vote Now: [https://poll.ist256.com](https://poll.ist256.com)"
   ]
  },
  {
   "cell_type": "markdown",
   "metadata": {
    "slideshow": {
     "slide_type": "slide"
    }
   },
   "source": [
    "# Check Yourself: For Range 2\n",
    "\n",
    "What is the value of k on line 4?\n"
   ]
  },
  {
   "cell_type": "code",
   "execution_count": 6,
   "metadata": {
    "slideshow": {
     "slide_type": "fragment"
    }
   },
   "outputs": [
    {
     "name": "stdout",
     "output_type": "stream",
     "text": [
      "k=0,j=0,k+j=0\n",
      "k=0,j=1,k+j=1\n",
      "k=1,j=2,k+j=3\n",
      "k=3,j=3,k+j=6\n",
      "k=6,j=4,k+j=10\n"
     ]
    }
   ],
   "source": [
    "k = 0\n",
    "for j in range(5):\n",
    "    print(f\"k={k},j={j},k+j={k+j}\")\n",
    "    k = k + j\n"
   ]
  },
  {
   "cell_type": "markdown",
   "metadata": {
    "slideshow": {
     "slide_type": "fragment"
    }
   },
   "source": [
    "A. `0`  \n",
    "B. `10`  \n",
    "C. `5`  \n",
    "D. `15`  \n",
    "\n",
    "### Vote Now: [https://poll.ist256.com](https://poll.ist256.com)"
   ]
  },
  {
   "cell_type": "markdown",
   "metadata": {
    "slideshow": {
     "slide_type": "slide"
    }
   },
   "source": [
    "# Watch Me Code 3\n",
    "\n",
    "## Count the \"i\"'s \n",
    "- Definite Loop\n"
   ]
  },
  {
   "cell_type": "markdown",
   "metadata": {
    "slideshow": {
     "slide_type": "slide"
    }
   },
   "source": [
    "# Indefinite,Infinite Loops and Break\n",
    "\n",
    "- The **Indefinite Loop** has no pre-determined exit condition. There are no guarantees an indefinite loop will end, as it is typically based on user input.\n",
    "- **Infinite Loops** are loops which can never reach their exit condition. These should be avoided at all costs.\n",
    "- The **break** statement is used to exit a loop immediately.It is often used to force an exit condition in the body of the loop.\n"
   ]
  },
  {
   "cell_type": "markdown",
   "metadata": {
    "slideshow": {
     "slide_type": "slide"
    }
   },
   "source": [
    "# Indefinite Loops The Easy Way\n",
    "\n",
    "1. Determine the code to repeat\n",
    "2. Determine the loop control variables & exit conditions\n",
    "3. Write exit conditions as **if** statements with **break**\n",
    "4. Wrap the code in a **while True:** loop!\n"
   ]
  },
  {
   "cell_type": "markdown",
   "metadata": {
    "slideshow": {
     "slide_type": "slide"
    }
   },
   "source": [
    "# Watch Me Code 4\n",
    "\n",
    "## Guess My Name:\n",
    "- This program will execute until you guess my name. \n",
    "- Uses the indefinite loop approach."
   ]
  },
  {
   "cell_type": "markdown",
   "metadata": {
    "slideshow": {
     "slide_type": "slide"
    }
   },
   "source": [
    "# Check Yourself: Loop Matching 1\n",
    "\n",
    "A loop where the test condition is never false is known as which kind of loop?\n",
    "   \n",
    " A. `Break`  \n",
    " B. `Infinite`  \n",
    " C. `Definite`  \n",
    " D. `Indefinite`  \n",
    "   \n",
    "### Vote Now: [https://poll.ist256.com](https://poll.ist256.com)\n",
    "   "
   ]
  },
  {
   "cell_type": "markdown",
   "metadata": {
    "slideshow": {
     "slide_type": "slide"
    }
   },
   "source": [
    "# Check Yourself: Loop Matching 2\n",
    "\n",
    "The Python keyword to exit a loop is?\n",
    "   \n",
    " A. `break`  \n",
    " B. `exit`  \n",
    " C. `quit`  \n",
    " D. `while`  \n",
    "   \n",
    "### Vote Now: [https://poll.ist256.com](https://poll.ist256.com)\n",
    "   \n",
    "   "
   ]
  },
  {
   "cell_type": "markdown",
   "metadata": {
    "slideshow": {
     "slide_type": "slide"
    }
   },
   "source": [
    "# End-To-End Example\n",
    "\n",
    "## Password Program:\n",
    "- 5 attempts for the password\n",
    "- On correct password, print: “Access Granted”, then end the program \n",
    "- On incorrect password “Invalid Password Attempt #” and give the user another try\n",
    "- After 5 attempts, print “You are locked out”. Then end the program.\n"
   ]
  },
  {
   "cell_type": "markdown",
   "metadata": {
    "slideshow": {
     "slide_type": "slide"
    }
   },
   "source": [
    "# Conclusion Activity Exit Ticket\n",
    "\n",
    "This program will output?\n"
   ]
  },
  {
   "cell_type": "code",
   "execution_count": 14,
   "metadata": {
    "slideshow": {
     "slide_type": "fragment"
    }
   },
   "outputs": [
    {
     "name": "stdout",
     "output_type": "stream",
     "text": [
      "ooxo"
     ]
    }
   ],
   "source": [
    "for x in 'mike':\n",
    "    if x == 'k':\n",
    "        print('x', end=\"\")\n",
    "    else:\n",
    "        print('o', end=\"\")"
   ]
  },
  {
   "cell_type": "markdown",
   "metadata": {
    "slideshow": {
     "slide_type": "fragment"
    }
   },
   "source": [
    "A. `xo`  \n",
    "B. `ox`  \n",
    "C. `ooxo`  \n",
    "D. `xxox`  \n",
    "\n",
    "### Vote Now: [https://poll.ist256.com](https://poll.ist256.com)"
   ]
  }
 ],
 "metadata": {
  "celltoolbar": "Slideshow",
  "kernelspec": {
   "display_name": "Python 3 (ipykernel)",
   "language": "python",
   "name": "python3"
  },
  "language_info": {
   "codemirror_mode": {
    "name": "ipython",
    "version": 3
   },
   "file_extension": ".py",
   "mimetype": "text/x-python",
   "name": "python",
   "nbconvert_exporter": "python",
   "pygments_lexer": "ipython3",
   "version": "3.9.7"
  },
  "toc": {
   "base_numbering": 1,
   "nav_menu": {},
   "number_sections": false,
   "sideBar": true,
   "skip_h1_title": false,
   "title_cell": "Table of Contents",
   "title_sidebar": "Contents",
   "toc_cell": false,
   "toc_position": {
    "height": "calc(100% - 180px)",
    "left": "10px",
    "top": "150px",
    "width": "212px"
   },
   "toc_section_display": true,
   "toc_window_display": false
  },
  "varInspector": {
   "cols": {
    "lenName": 16,
    "lenType": 16,
    "lenVar": 40
   },
   "kernels_config": {
    "python": {
     "delete_cmd_postfix": "",
     "delete_cmd_prefix": "del ",
     "library": "var_list.py",
     "varRefreshCmd": "print(var_dic_list())"
    },
    "r": {
     "delete_cmd_postfix": ") ",
     "delete_cmd_prefix": "rm(",
     "library": "var_list.r",
     "varRefreshCmd": "cat(var_dic_list()) "
    }
   },
   "position": {
    "height": "144.5px",
    "left": "557.5px",
    "right": "20px",
    "top": "122px",
    "width": "350px"
   },
   "types_to_exclude": [
    "module",
    "function",
    "builtin_function_or_method",
    "instance",
    "_Feature"
   ],
   "window_display": false
  }
 },
 "nbformat": 4,
 "nbformat_minor": 2
}
