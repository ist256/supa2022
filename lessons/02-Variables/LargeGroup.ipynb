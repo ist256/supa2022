{
 "cells": [
  {
   "cell_type": "markdown",
   "metadata": {},
   "source": [
    "# Code Samples From Large Group\n"
   ]
  },
  {
   "cell_type": "code",
   "execution_count": 1,
   "metadata": {},
   "outputs": [],
   "source": [
    "x = 10\n"
   ]
  },
  {
   "cell_type": "code",
   "execution_count": 2,
   "metadata": {},
   "outputs": [
    {
     "data": {
      "text/plain": [
       "int"
      ]
     },
     "execution_count": 2,
     "metadata": {},
     "output_type": "execute_result"
    }
   ],
   "source": [
    "type(x)"
   ]
  },
  {
   "cell_type": "code",
   "execution_count": 3,
   "metadata": {},
   "outputs": [
    {
     "data": {
      "text/plain": [
       "'10'"
      ]
     },
     "execution_count": 3,
     "metadata": {},
     "output_type": "execute_result"
    }
   ],
   "source": [
    "str(x)"
   ]
  },
  {
   "cell_type": "code",
   "execution_count": 4,
   "metadata": {},
   "outputs": [
    {
     "data": {
      "text/plain": [
       "40"
      ]
     },
     "execution_count": 4,
     "metadata": {},
     "output_type": "execute_result"
    }
   ],
   "source": [
    "10 + 30"
   ]
  },
  {
   "cell_type": "code",
   "execution_count": 5,
   "metadata": {},
   "outputs": [
    {
     "data": {
      "text/plain": [
       "'mike'"
      ]
     },
     "execution_count": 5,
     "metadata": {},
     "output_type": "execute_result"
    }
   ],
   "source": [
    "\"mi\" + \"ke\""
   ]
  },
  {
   "cell_type": "code",
   "execution_count": 6,
   "metadata": {},
   "outputs": [],
   "source": [
    "a = \"10\"\n",
    "b = \"20\""
   ]
  },
  {
   "cell_type": "code",
   "execution_count": 7,
   "metadata": {},
   "outputs": [
    {
     "data": {
      "text/plain": [
       "'2010'"
      ]
     },
     "execution_count": 7,
     "metadata": {},
     "output_type": "execute_result"
    }
   ],
   "source": [
    "b + a"
   ]
  },
  {
   "cell_type": "code",
   "execution_count": 8,
   "metadata": {},
   "outputs": [],
   "source": [
    "c = 10.0"
   ]
  },
  {
   "cell_type": "code",
   "execution_count": 9,
   "metadata": {},
   "outputs": [
    {
     "data": {
      "text/plain": [
       "float"
      ]
     },
     "execution_count": 9,
     "metadata": {},
     "output_type": "execute_result"
    }
   ],
   "source": [
    "type(c)"
   ]
  },
  {
   "cell_type": "code",
   "execution_count": 10,
   "metadata": {},
   "outputs": [
    {
     "data": {
      "text/plain": [
       "True"
      ]
     },
     "execution_count": 10,
     "metadata": {},
     "output_type": "execute_result"
    }
   ],
   "source": [
    "type(13) == int"
   ]
  },
  {
   "cell_type": "code",
   "execution_count": 11,
   "metadata": {},
   "outputs": [
    {
     "data": {
      "text/plain": [
       "60"
      ]
     },
     "execution_count": 11,
     "metadata": {},
     "output_type": "execute_result"
    }
   ],
   "source": [
    " 10 + ( x * 5)"
   ]
  },
  {
   "cell_type": "code",
   "execution_count": 23,
   "metadata": {},
   "outputs": [
    {
     "name": "stdout",
     "output_type": "stream",
     "text": [
      "$   1000.00\n"
     ]
    }
   ],
   "source": [
    "x = 1_000\n",
    "print(f\"${x:10.2f}\")"
   ]
  },
  {
   "cell_type": "code",
   "execution_count": 35,
   "metadata": {},
   "outputs": [
    {
     "name": "stdout",
     "output_type": "stream",
     "text": [
      "|jorje               |       jorje        |               jorje|\n"
     ]
    }
   ],
   "source": [
    "name = \"jorje\"\n",
    "print(f\"|{name:<20}|{name:^20}|{name:>20}|\")\n"
   ]
  },
  {
   "cell_type": "code",
   "execution_count": 36,
   "metadata": {},
   "outputs": [
    {
     "data": {
      "text/plain": [
       "'..........'"
      ]
     },
     "execution_count": 36,
     "metadata": {},
     "output_type": "execute_result"
    }
   ],
   "source": [
    "\".\"*10"
   ]
  },
  {
   "cell_type": "code",
   "execution_count": 47,
   "metadata": {},
   "outputs": [],
   "source": [
    "product = \"Chicken Fingers\"\n",
    "price = 11.99\n",
    "p2 = \"Cheese\"\n",
    "p2p = 9.99"
   ]
  },
  {
   "cell_type": "code",
   "execution_count": 49,
   "metadata": {},
   "outputs": [
    {
     "name": "stdout",
     "output_type": "stream",
     "text": [
      "Chicken Fingers...................$11.99\n",
      "Cheese.............................$9.99\n"
     ]
    }
   ],
   "source": [
    "\"Chicken Fingers.......$11.99\"\n",
    "dots = \".\"*(40 - len(product) - len(str(price))-1 )\n",
    "print(f\"{product}{dots}${price:.2f}\")\n",
    "dots = \".\"*(40 - len(p2) - len(str(p2p))-1 )\n",
    "print(f\"{p2}{dots}${p2p:.2f}\")"
   ]
  },
  {
   "cell_type": "code",
   "execution_count": 52,
   "metadata": {},
   "outputs": [
    {
     "name": "stdout",
     "output_type": "stream",
     "text": [
      "Enter weight of your milk: 50\n",
      "buy more milk\n"
     ]
    }
   ],
   "source": [
    "threshold = 300\n",
    "milk = int(input(\"Enter weight of your milk: \"))\n",
    "if milk < threshold:\n",
    "    print(\"buy more milk\")\n",
    "    \n",
    "    \n",
    "    "
   ]
  },
  {
   "cell_type": "code",
   "execution_count": null,
   "metadata": {},
   "outputs": [],
   "source": [
    "if x > 10:\n",
    "    do something\n",
    "if y > 10:\n",
    "    do something else\n",
    "    "
   ]
  },
  {
   "cell_type": "code",
   "execution_count": null,
   "metadata": {},
   "outputs": [],
   "source": [
    "if x> 10:\n",
    "    do something\n",
    "elif y > 10:\n",
    "    do something else\n",
    "    \n"
   ]
  },
  {
   "cell_type": "code",
   "execution_count": null,
   "metadata": {},
   "outputs": [],
   "source": [
    "if hungry:\n",
    "    eatEggs()\n",
    "    if not fullFromEggs():\n",
    "        gotoClass()\n",
    "    else:\n",
    "        gotoSleep()\n",
    "else:\n",
    "    getCoffee()\n",
    "    gotoClass()"
   ]
  },
  {
   "cell_type": "code",
   "execution_count": 74,
   "metadata": {},
   "outputs": [
    {
     "name": "stdout",
     "output_type": "stream",
     "text": [
      "Enter your Age56\n",
      "TypeError\n"
     ]
    }
   ],
   "source": [
    "try:\n",
    "    age = int(input(\"Enter your Age\"))\n",
    "    x = \"10\" + 3\n",
    "    if age>21:\n",
    "        print(\"Enjoy Resposibly\")\n",
    "    else:\n",
    "        print(\"You must leave the website\")\n",
    "except ValueError as e:\n",
    "    print(\"keep to numbers, please\", e)\n",
    "except Exception as e:\n",
    "    print(e.__class__.__name__)\n",
    "    "
   ]
  },
  {
   "cell_type": "code",
   "execution_count": 64,
   "metadata": {},
   "outputs": [
    {
     "name": "stdout",
     "output_type": "stream",
     "text": [
      "Enter your Agekgshada\n"
     ]
    },
    {
     "ename": "ValueError",
     "evalue": "invalid literal for int() with base 10: 'kgshada'",
     "output_type": "error",
     "traceback": [
      "\u001b[0;31m---------------------------------------------------------------------------\u001b[0m",
      "\u001b[0;31mValueError\u001b[0m                                Traceback (most recent call last)",
      "Input \u001b[0;32mIn [64]\u001b[0m, in \u001b[0;36m<module>\u001b[0;34m\u001b[0m\n\u001b[0;32m----> 1\u001b[0m age \u001b[38;5;241m=\u001b[39m \u001b[38;5;28;43mint\u001b[39;49m\u001b[43m(\u001b[49m\u001b[38;5;28;43minput\u001b[39;49m\u001b[43m(\u001b[49m\u001b[38;5;124;43m\"\u001b[39;49m\u001b[38;5;124;43mEnter your Age\u001b[39;49m\u001b[38;5;124;43m\"\u001b[39;49m\u001b[43m)\u001b[49m\u001b[43m)\u001b[49m\n\u001b[1;32m      2\u001b[0m \u001b[38;5;28;01mif\u001b[39;00m age\u001b[38;5;241m>\u001b[39m\u001b[38;5;241m21\u001b[39m:\n\u001b[1;32m      3\u001b[0m     \u001b[38;5;28mprint\u001b[39m(\u001b[38;5;124m\"\u001b[39m\u001b[38;5;124mEnjoy Resposibly\u001b[39m\u001b[38;5;124m\"\u001b[39m)\n",
      "\u001b[0;31mValueError\u001b[0m: invalid literal for int() with base 10: 'kgshada'"
     ]
    }
   ],
   "source": [
    "age = int(input(\"Enter your Age\"))\n",
    "if age>21:\n",
    "    print(\"Enjoy Resposibly\")\n",
    "else:\n",
    "    print(\"You must leave the website\")"
   ]
  },
  {
   "cell_type": "code",
   "execution_count": 61,
   "metadata": {},
   "outputs": [
    {
     "ename": "TypeError",
     "evalue": "can only concatenate str (not \"int\") to str",
     "output_type": "error",
     "traceback": [
      "\u001b[0;31m---------------------------------------------------------------------------\u001b[0m",
      "\u001b[0;31mTypeError\u001b[0m                                 Traceback (most recent call last)",
      "Input \u001b[0;32mIn [61]\u001b[0m, in \u001b[0;36m<module>\u001b[0;34m\u001b[0m\n\u001b[0;32m----> 1\u001b[0m x \u001b[38;5;241m=\u001b[39m \u001b[38;5;124;43m\"\u001b[39;49m\u001b[38;5;124;43m10\u001b[39;49m\u001b[38;5;124;43m\"\u001b[39;49m\u001b[43m \u001b[49m\u001b[38;5;241;43m+\u001b[39;49m\u001b[43m \u001b[49m\u001b[38;5;241;43m3\u001b[39;49m\n",
      "\u001b[0;31mTypeError\u001b[0m: can only concatenate str (not \"int\") to str"
     ]
    }
   ],
   "source": [
    "x = \"10\" + 3"
   ]
  },
  {
   "cell_type": "code",
   "execution_count": 72,
   "metadata": {},
   "outputs": [
    {
     "data": {
      "text/plain": [
       "['__cause__',\n",
       " '__class__',\n",
       " '__context__',\n",
       " '__delattr__',\n",
       " '__dict__',\n",
       " '__dir__',\n",
       " '__doc__',\n",
       " '__eq__',\n",
       " '__format__',\n",
       " '__ge__',\n",
       " '__getattribute__',\n",
       " '__gt__',\n",
       " '__hash__',\n",
       " '__init__',\n",
       " '__init_subclass__',\n",
       " '__le__',\n",
       " '__lt__',\n",
       " '__ne__',\n",
       " '__new__',\n",
       " '__reduce__',\n",
       " '__reduce_ex__',\n",
       " '__repr__',\n",
       " '__setattr__',\n",
       " '__setstate__',\n",
       " '__sizeof__',\n",
       " '__str__',\n",
       " '__subclasshook__',\n",
       " '__suppress_context__',\n",
       " '__traceback__',\n",
       " 'args',\n",
       " 'with_traceback']"
      ]
     },
     "execution_count": 72,
     "metadata": {},
     "output_type": "execute_result"
    }
   ],
   "source": [
    "dir(Exception)"
   ]
  },
  {
   "cell_type": "code",
   "execution_count": 76,
   "metadata": {},
   "outputs": [
    {
     "name": "stdout",
     "output_type": "stream",
     "text": [
      "Enter your password: sdkjg\n",
      "Enter your password: asdf\n",
      "Enter your password: asdf\n",
      "Enter your password: sadf\n",
      "Enter your password: sadf\n",
      "Enter your password: asdf\n",
      "Enter your password: fsda\n",
      "Enter your password: sadf\n",
      "Enter your password: asdf\n",
      "Enter your password: asdf\n",
      "Enter your password: sadf\n",
      "Enter your password: rhubarb\n"
     ]
    }
   ],
   "source": [
    "password = \"rhubarb\"\n",
    "yourpassword = \"\"\n",
    "times = 0 \n",
    "while yourpassword != password or times <5:\n",
    "    yourpassword = input(\"Enter your password: \")\n",
    "    times = times + 1\n",
    "    "
   ]
  },
  {
   "cell_type": "code",
   "execution_count": 78,
   "metadata": {},
   "outputs": [
    {
     "name": "stdout",
     "output_type": "stream",
     "text": [
      "Enter your password: rhubarb\n"
     ]
    }
   ],
   "source": [
    "password = \"rhubarb\"\n",
    "yourpassword = \"\"\n",
    "times = 0 \n",
    "while True:\n",
    "    yourpassword = input(\"Enter your password: \")\n",
    "    times = times + 1\n",
    "    # code ^^^^^^\n",
    "    # decisions \\/\\/\\/\\/\n",
    "    if yourpassword == password:\n",
    "        break\n",
    "    if times >=5:\n",
    "        break\n",
    "        "
   ]
  },
  {
   "cell_type": "code",
   "execution_count": 79,
   "metadata": {},
   "outputs": [
    {
     "name": "stdout",
     "output_type": "stream",
     "text": [
      "0\n",
      "1\n",
      "2\n",
      "3\n",
      "4\n",
      "5\n",
      "6\n",
      "7\n",
      "8\n",
      "9\n"
     ]
    }
   ],
   "source": [
    "for i in range(10):\n",
    "    print(i)"
   ]
  },
  {
   "cell_type": "code",
   "execution_count": 82,
   "metadata": {},
   "outputs": [
    {
     "name": "stdout",
     "output_type": "stream",
     "text": [
      "m\n",
      "i\n",
      "k\n",
      "e\n"
     ]
    }
   ],
   "source": [
    "for character in \"mike\":\n",
    "    print(character)"
   ]
  },
  {
   "cell_type": "raw",
   "metadata": {},
   "source": [
    "shopping_list = [ \"milk\", \"diapers\", \"beer\"]\n",
    "for item in shopping_list:\n",
    "    print(\"Make sure to buy\", item)"
   ]
  },
  {
   "cell_type": "code",
   "execution_count": 83,
   "metadata": {},
   "outputs": [
    {
     "name": "stdout",
     "output_type": "stream",
     "text": [
      "Enter a word: mississippi\n"
     ]
    }
   ],
   "source": [
    "word = input(\"Enter a word: \")"
   ]
  },
  {
   "cell_type": "code",
   "execution_count": null,
   "metadata": {},
   "outputs": [],
   "source": [
    "for each letter in word\n",
    "    if letter is an \"i\"\n",
    "        increment my count"
   ]
  },
  {
   "cell_type": "code",
   "execution_count": 93,
   "metadata": {},
   "outputs": [
    {
     "name": "stdout",
     "output_type": "stream",
     "text": [
      "Enter a word: mike\n",
      "There are 1 i's in mike\n"
     ]
    }
   ],
   "source": [
    "word = input(\"Enter a word: \")\n",
    "count=0\n",
    "for letter in word:\n",
    "    if letter == 'i':\n",
    "        count += 1\n",
    "print(f\"There are {count} i's in {word}\")"
   ]
  },
  {
   "cell_type": "code",
   "execution_count": 86,
   "metadata": {},
   "outputs": [
    {
     "name": "stdout",
     "output_type": "stream",
     "text": [
      "2000\n",
      "2002\n",
      "2004\n",
      "2006\n",
      "2008\n"
     ]
    }
   ],
   "source": [
    "year = 2000\n",
    "for i in range(10):\n",
    "    if year%2==0:\n",
    "        print(year)\n",
    "    year = year + 1\n",
    "    "
   ]
  },
  {
   "cell_type": "code",
   "execution_count": 95,
   "metadata": {},
   "outputs": [
    {
     "name": "stdout",
     "output_type": "stream",
     "text": [
      "Enter Radius1\n",
      "The area is 3.14159\n"
     ]
    }
   ],
   "source": [
    "radius = float(input(\"Enter Radius\"))\n",
    "area = 3.14159*radius**2\n",
    "print(f\"The area is {area}\")"
   ]
  },
  {
   "cell_type": "code",
   "execution_count": 105,
   "metadata": {},
   "outputs": [
    {
     "name": "stdout",
     "output_type": "stream",
     "text": [
      "3.14159\n",
      "mike\n"
     ]
    }
   ],
   "source": [
    "def area_circle( radius, foo ):\n",
    "    area = 3.14159*radius**2\n",
    "    return area, \"mike\"\n",
    "\n",
    "a,b = area_circle(1,\"mikeeee\")\n",
    "print(a)\n",
    "print(b)"
   ]
  },
  {
   "cell_type": "code",
   "execution_count": null,
   "metadata": {},
   "outputs": [],
   "source": [
    "def area_circle( radius : float, foo : str ) -> (float, str):\n",
    "    area = 3.14159*radius**2\n",
    "    return area, \"mike\"\n",
    "\n",
    "a,b = area_circle(1,\"mikeeee\")\n",
    "print(a)\n",
    "print(b)"
   ]
  },
  {
   "cell_type": "code",
   "execution_count": 97,
   "metadata": {},
   "outputs": [
    {
     "name": "stdout",
     "output_type": "stream",
     "text": [
      "Enter Radius1\n",
      "The area is 3.14159\n"
     ]
    }
   ],
   "source": [
    "radius = float(input(\"Enter Radius\"))\n",
    "area = area_circle(radius)\n",
    "print(f\"The area is {area}\")"
   ]
  },
  {
   "cell_type": "code",
   "execution_count": 113,
   "metadata": {},
   "outputs": [
    {
     "name": "stdout",
     "output_type": "stream",
     "text": [
      "word='baby', letter_to_find='b' expect=2, actual= 2\n"
     ]
    }
   ],
   "source": [
    "# Write a function to count the characters in a string\n",
    "# INPUT: word, letter_to_count\n",
    "# OUTPUT: number of occurences of letter in word a.k.a count\n",
    "# for letter in word\n",
    "#    if letter == letter to count\n",
    "#       increment the count\n",
    "def count_occurences(word, letter_to_find):\n",
    "    count = 0\n",
    "    for letter in word:\n",
    "        if letter == letter_to_find:\n",
    "            count = count + 1\n",
    "    return count\n",
    "\n",
    "print(\"word='baby', letter_to_find='b' expect=2, actual=\", count_occurences('baby','b'))\n",
    "\n",
    "assert count_occurences('mississippi','i')==4\n",
    "assert count_occurences('cheese','k')==0"
   ]
  },
  {
   "cell_type": "code",
   "execution_count": 114,
   "metadata": {},
   "outputs": [],
   "source": [
    "import getpass"
   ]
  },
  {
   "cell_type": "code",
   "execution_count": 115,
   "metadata": {},
   "outputs": [
    {
     "data": {
      "text/plain": [
       "['GetPassWarning',\n",
       " '__all__',\n",
       " '__builtins__',\n",
       " '__cached__',\n",
       " '__doc__',\n",
       " '__file__',\n",
       " '__loader__',\n",
       " '__name__',\n",
       " '__package__',\n",
       " '__spec__',\n",
       " '_raw_input',\n",
       " 'contextlib',\n",
       " 'fallback_getpass',\n",
       " 'getpass',\n",
       " 'getuser',\n",
       " 'io',\n",
       " 'os',\n",
       " 'sys',\n",
       " 'termios',\n",
       " 'unix_getpass',\n",
       " 'warnings',\n",
       " 'win_getpass']"
      ]
     },
     "execution_count": 115,
     "metadata": {},
     "output_type": "execute_result"
    }
   ],
   "source": [
    "dir(getpass)"
   ]
  },
  {
   "cell_type": "code",
   "execution_count": null,
   "metadata": {},
   "outputs": [],
   "source": [
    "help(getpass.getpass)"
   ]
  },
  {
   "cell_type": "code",
   "execution_count": 118,
   "metadata": {},
   "outputs": [
    {
     "name": "stdout",
     "output_type": "stream",
     "text": [
      "Enter something: ········\n"
     ]
    }
   ],
   "source": [
    "x = getpass.getpass(\"Enter something: \")"
   ]
  },
  {
   "cell_type": "code",
   "execution_count": 119,
   "metadata": {},
   "outputs": [
    {
     "data": {
      "text/plain": [
       "'MIKE'"
      ]
     },
     "execution_count": 119,
     "metadata": {},
     "output_type": "execute_result"
    }
   ],
   "source": [
    "x"
   ]
  },
  {
   "cell_type": "code",
   "execution_count": 121,
   "metadata": {},
   "outputs": [
    {
     "name": "stdout",
     "output_type": "stream",
     "text": [
      "     July 2022\n",
      "Mo Tu We Th Fr Sa Su\n",
      "             1  2  3\n",
      " 4  5  6  7  8  9 10\n",
      "11 12 13 14 15 16 17\n",
      "18 19 20 21 22 23 24\n",
      "25 26 27 28 29 30 31\n",
      "\n"
     ]
    }
   ],
   "source": [
    "# Mike's \n",
    "import calendar\n",
    "print(calendar.month(2022,7))"
   ]
  },
  {
   "cell_type": "code",
   "execution_count": 122,
   "metadata": {},
   "outputs": [
    {
     "ename": "ModuleNotFoundError",
     "evalue": "No module named 'kernel'",
     "output_type": "error",
     "traceback": [
      "\u001b[0;31m---------------------------------------------------------------------------\u001b[0m",
      "\u001b[0;31mModuleNotFoundError\u001b[0m                       Traceback (most recent call last)",
      "Input \u001b[0;32mIn [122]\u001b[0m, in \u001b[0;36m<module>\u001b[0;34m\u001b[0m\n\u001b[0;32m----> 1\u001b[0m \u001b[38;5;28;01mimport\u001b[39;00m \u001b[38;5;21;01mkernel\u001b[39;00m\n",
      "\u001b[0;31mModuleNotFoundError\u001b[0m: No module named 'kernel'"
     ]
    }
   ],
   "source": [
    "import kernel"
   ]
  },
  {
   "cell_type": "code",
   "execution_count": 126,
   "metadata": {},
   "outputs": [
    {
     "data": {
      "text/plain": [
       "'CIRCUMFLEX ACCENT'"
      ]
     },
     "execution_count": 126,
     "metadata": {},
     "output_type": "execute_result"
    }
   ],
   "source": [
    "#Angelo\n",
    "import unicodedata\n",
    "unicodedata.name('^')\n"
   ]
  },
  {
   "cell_type": "code",
   "execution_count": 129,
   "metadata": {},
   "outputs": [],
   "source": [
    "import string"
   ]
  },
  {
   "cell_type": "code",
   "execution_count": 131,
   "metadata": {},
   "outputs": [
    {
     "data": {
      "text/plain": [
       "'ABCDEFGHIJKLMNOPQRSTUVWXYZ'"
      ]
     },
     "execution_count": 131,
     "metadata": {},
     "output_type": "execute_result"
    }
   ],
   "source": [
    "string.ascii_uppercase"
   ]
  },
  {
   "cell_type": "code",
   "execution_count": 132,
   "metadata": {},
   "outputs": [
    {
     "data": {
      "text/plain": [
       "'!\"#$%&\\'()*+,-./:;<=>?@[\\\\]^_`{|}~'"
      ]
     },
     "execution_count": 132,
     "metadata": {},
     "output_type": "execute_result"
    }
   ],
   "source": [
    "string.punctuation"
   ]
  },
  {
   "cell_type": "code",
   "execution_count": 133,
   "metadata": {},
   "outputs": [
    {
     "name": "stdout",
     "output_type": "stream",
     "text": [
      "2022-07-12 01:00:00-04:00\n"
     ]
    },
    {
     "data": {
      "text/plain": [
       "'EDT'"
      ]
     },
     "execution_count": 133,
     "metadata": {},
     "output_type": "execute_result"
    }
   ],
   "source": [
    "#Raghida\n",
    "from datetime import datetime\n",
    "from zoneinfo import ZoneInfo\n",
    "dt = datetime(2022, 7, 12, 1, tzinfo=ZoneInfo(\"America/New_York\"))\n",
    "print(dt)\n",
    "dt.tzname()\n"
   ]
  },
  {
   "cell_type": "code",
   "execution_count": 135,
   "metadata": {},
   "outputs": [
    {
     "data": {
      "text/plain": [
       "738348"
      ]
     },
     "execution_count": 135,
     "metadata": {},
     "output_type": "execute_result"
    }
   ],
   "source": [
    "dt."
   ]
  },
  {
   "cell_type": "code",
   "execution_count": 138,
   "metadata": {},
   "outputs": [
    {
     "name": "stdout",
     "output_type": "stream",
     "text": [
      "35.0\n"
     ]
    }
   ],
   "source": [
    "#John\n",
    "#Math\n",
    "import math\n",
    "print(math.fsum([5,6,7,8,9]))\n"
   ]
  },
  {
   "cell_type": "code",
   "execution_count": 139,
   "metadata": {},
   "outputs": [
    {
     "name": "stdout",
     "output_type": "stream",
     "text": [
      "Collecting gtts\n",
      "  Downloading gTTS-2.2.4-py3-none-any.whl (26 kB)\n",
      "Requirement already satisfied: click in /opt/conda/lib/python3.9/site-packages (from gtts) (8.0.3)\n",
      "Requirement already satisfied: requests in /opt/conda/lib/python3.9/site-packages (from gtts) (2.27.1)\n",
      "Requirement already satisfied: six in /opt/conda/lib/python3.9/site-packages (from gtts) (1.16.0)\n",
      "Requirement already satisfied: idna<4,>=2.5 in /opt/conda/lib/python3.9/site-packages (from requests->gtts) (3.3)\n",
      "Requirement already satisfied: charset-normalizer~=2.0.0 in /opt/conda/lib/python3.9/site-packages (from requests->gtts) (2.0.11)\n",
      "Requirement already satisfied: urllib3<1.27,>=1.21.1 in /opt/conda/lib/python3.9/site-packages (from requests->gtts) (1.26.8)\n",
      "Requirement already satisfied: certifi>=2017.4.17 in /opt/conda/lib/python3.9/site-packages (from requests->gtts) (2021.10.8)\n",
      "Installing collected packages: gtts\n",
      "Successfully installed gtts-2.2.4\n"
     ]
    }
   ],
   "source": [
    "!pip install gtts"
   ]
  },
  {
   "cell_type": "code",
   "execution_count": null,
   "metadata": {},
   "outputs": [],
   "source": [
    "import gtts\n",
    "from gtts import gTTS"
   ]
  },
  {
   "cell_type": "code",
   "execution_count": 140,
   "metadata": {},
   "outputs": [],
   "source": [
    "import math"
   ]
  },
  {
   "cell_type": "code",
   "execution_count": 143,
   "metadata": {},
   "outputs": [
    {
     "data": {
      "text/plain": [
       "3.141592653589793"
      ]
     },
     "execution_count": 143,
     "metadata": {},
     "output_type": "execute_result"
    }
   ],
   "source": [
    "math.pi"
   ]
  },
  {
   "cell_type": "code",
   "execution_count": 146,
   "metadata": {},
   "outputs": [],
   "source": [
    "from math import pi,fsum"
   ]
  },
  {
   "cell_type": "code",
   "execution_count": 145,
   "metadata": {},
   "outputs": [
    {
     "data": {
      "text/plain": [
       "3.141592653589793"
      ]
     },
     "execution_count": 145,
     "metadata": {},
     "output_type": "execute_result"
    }
   ],
   "source": [
    "pi"
   ]
  },
  {
   "cell_type": "code",
   "execution_count": 147,
   "metadata": {},
   "outputs": [],
   "source": [
    "from math import pi as  pie\n"
   ]
  },
  {
   "cell_type": "code",
   "execution_count": 148,
   "metadata": {},
   "outputs": [
    {
     "data": {
      "text/plain": [
       "3.141592653589793"
      ]
     },
     "execution_count": 148,
     "metadata": {},
     "output_type": "execute_result"
    }
   ],
   "source": [
    "pie"
   ]
  },
  {
   "cell_type": "code",
   "execution_count": 149,
   "metadata": {},
   "outputs": [],
   "source": [
    "from gtts import gTTS"
   ]
  },
  {
   "cell_type": "code",
   "execution_count": 153,
   "metadata": {},
   "outputs": [],
   "source": [
    "g = gTTS(\"Hello There\")\n",
    "g.save(\"test.wav\")"
   ]
  },
  {
   "cell_type": "code",
   "execution_count": 154,
   "metadata": {},
   "outputs": [],
   "source": [
    "from IPython.display import Audio,display"
   ]
  },
  {
   "cell_type": "code",
   "execution_count": 161,
   "metadata": {},
   "outputs": [
    {
     "data": {
      "text/html": [
       "\n",
       "                <audio  controls=\"controls\" autoplay=\"autoplay\">\n",
       "                    <source src=\"data:audio/x-wav;base64,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\" type=\"audio/x-wav\" />\n",
       "                    Your browser does not support the audio element.\n",
       "                </audio>\n",
       "              "
      ],
      "text/plain": [
       "<IPython.lib.display.Audio object>"
      ]
     },
     "execution_count": 161,
     "metadata": {},
     "output_type": "execute_result"
    }
   ],
   "source": [
    "Audio(filename=\"test.wav\",autoplay=True)"
   ]
  },
  {
   "cell_type": "code",
   "execution_count": 164,
   "metadata": {},
   "outputs": [
    {
     "data": {
      "text/html": [
       "\n",
       "                <audio  controls=\"controls\" autoplay=\"autoplay\">\n",
       "                    <source src=\"data:audio/x-wav;base64,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\" type=\"audio/x-wav\" />\n",
       "                    Your browser does not support the audio element.\n",
       "                </audio>\n",
       "              "
      ],
      "text/plain": [
       "<IPython.lib.display.Audio object>"
      ]
     },
     "execution_count": 164,
     "metadata": {},
     "output_type": "execute_result"
    }
   ],
   "source": [
    "def speak(text):\n",
    "    g = gTTS(text)\n",
    "    g.save(\"test.wav\")\n",
    "    return Audio(filename=\"test.wav\", autoplay=True)\n",
    "\n",
    "speak(\"Yoyo ma\")"
   ]
  },
  {
   "cell_type": "code",
   "execution_count": 167,
   "metadata": {},
   "outputs": [
    {
     "data": {
      "text/html": [
       "\n",
       "                <audio  controls=\"controls\" autoplay=\"autoplay\">\n",
       "                    <source src=\"data:audio/x-wav;base64,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\" type=\"audio/x-wav\" />\n",
       "                    Your browser does not support the audio element.\n",
       "                </audio>\n",
       "              "
      ],
      "text/plain": [
       "<IPython.lib.display.Audio object>"
      ]
     },
     "metadata": {},
     "output_type": "display_data"
    },
    {
     "name": "stdout",
     "output_type": "stream",
     "text": [
      "Y/N? Y\n"
     ]
    },
    {
     "data": {
      "text/html": [
       "\n",
       "                <audio  controls=\"controls\" autoplay=\"autoplay\">\n",
       "                    <source src=\"data:audio/x-wav;base64,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\" type=\"audio/x-wav\" />\n",
       "                    Your browser does not support the audio element.\n",
       "                </audio>\n",
       "              "
      ],
      "text/plain": [
       "<IPython.lib.display.Audio object>"
      ]
     },
     "metadata": {},
     "output_type": "display_data"
    }
   ],
   "source": [
    "from gtts import gTTS\n",
    "from IPython.display import display, Audio\n",
    "\n",
    "def speak(text):\n",
    "    g = gTTS(text)\n",
    "    g.save(\"test.wav\")\n",
    "    return Audio(filename=\"test.wav\", autoplay=True)\n",
    "\n",
    "\n",
    "display(speak(\"Shall We play a Game?\"))\n",
    "prompt = input(\"Y/N? \")\n",
    "if prompt == \"Y\":\n",
    "    display(speak(\"Sounds good!\"))\n",
    "else:\n",
    "    display(speak(\"I want to play!\"))\n",
    "    "
   ]
  },
  {
   "cell_type": "code",
   "execution_count": 168,
   "metadata": {},
   "outputs": [
    {
     "data": {
      "image/jpeg": "[encoded data removed]",
      "text/html": [
       "\n",
       "        <iframe\n",
       "            width=\"400\"\n",
       "            height=\"300\"\n",
       "            src=\"https://www.youtube.com/embed/V5GTOWDlfWo\"\n",
       "            frameborder=\"0\"\n",
       "            allowfullscreen\n",
       "            \n",
       "        ></iframe>\n",
       "        "
      ],
      "text/plain": [
       "<IPython.lib.display.YouTubeVideo at 0x7f09b447bc40>"
      ]
     },
     "metadata": {},
     "output_type": "display_data"
    }
   ],
   "source": [
    "from IPython.display import YouTubeVideo, display\n",
    "\n",
    "display(YouTubeVideo(\"V5GTOWDlfWo\"))\n",
    "\n"
   ]
  },
  {
   "cell_type": "code",
   "execution_count": 174,
   "metadata": {},
   "outputs": [
    {
     "data": {
      "application/vnd.jupyter.widget-view+json": {
       "model_id": "7b3f31aab2624d1599528c373d692cbc",
       "version_major": 2,
       "version_minor": 0
      },
      "text/plain": [
       "interactive(children=(Text(value='', description='text'), Dropdown(description='lang', options=('en', 'fr', 'e…"
      ]
     },
     "metadata": {},
     "output_type": "display_data"
    }
   ],
   "source": [
    "from gtts import gTTS\n",
    "from IPython.display import display, Audio\n",
    "from ipywidgets import interact_manual\n",
    "\n",
    "def speak(text, lang=\"en\", tld=\"com\"):\n",
    "    g = gTTS(text, lang=lang, tld=tld)\n",
    "    g.save(\"test.wav\")\n",
    "    return Audio(filename=\"test.wav\", autoplay=True)\n",
    "\n",
    "@interact_manual(text=\"\",lang=[\"en\",\"fr\",\"es\"], tld=\"\")\n",
    "def click(text,lang,tld):\n",
    "    display(speak(text,lang,tld))\n"
   ]
  },
  {
   "cell_type": "code",
   "execution_count": 171,
   "metadata": {},
   "outputs": [
    {
     "name": "stdout",
     "output_type": "stream",
     "text": [
      "Help on _InteractFactory in module ipywidgets.widgets.interaction object:\n",
      "\n",
      "class _InteractFactory(builtins.object)\n",
      " |  _InteractFactory(cls, options, kwargs={})\n",
      " |  \n",
      " |  Factory for instances of :class:`interactive`.\n",
      " |  \n",
      " |  This class is needed to support options like::\n",
      " |  \n",
      " |      >>> @interact.options(manual=True)\n",
      " |      ... def greeting(text=\"World\"):\n",
      " |      ...     print(\"Hello {}\".format(text))\n",
      " |  \n",
      " |  Parameters\n",
      " |  ----------\n",
      " |  cls : class\n",
      " |      The subclass of :class:`interactive` to construct.\n",
      " |  options : dict\n",
      " |      A dict of options used to construct the interactive\n",
      " |      function. By default, this is returned by\n",
      " |      ``cls.default_options()``.\n",
      " |  kwargs : dict\n",
      " |      A dict of **kwargs to use for widgets.\n",
      " |  \n",
      " |  Methods defined here:\n",
      " |  \n",
      " |  __call__(self, _InteractFactory__interact_f=None, **kwargs)\n",
      " |      Make the given function interactive by adding and displaying\n",
      " |      the corresponding :class:`interactive` widget.\n",
      " |      \n",
      " |      Expects the first argument to be a function. Parameters to this\n",
      " |      function are widget abbreviations passed in as keyword arguments\n",
      " |      (``**kwargs``). Can be used as a decorator (see examples).\n",
      " |      \n",
      " |      Returns\n",
      " |      -------\n",
      " |      f : __interact_f with interactive widget attached to it.\n",
      " |      \n",
      " |      Parameters\n",
      " |      ----------\n",
      " |      __interact_f : function\n",
      " |          The function to which the interactive widgets are tied. The `**kwargs`\n",
      " |          should match the function signature. Passed to :func:`interactive()`\n",
      " |      **kwargs : various, optional\n",
      " |          An interactive widget is created for each keyword argument that is a\n",
      " |          valid widget abbreviation. Passed to :func:`interactive()`\n",
      " |      \n",
      " |      Examples\n",
      " |      --------\n",
      " |      Render an interactive text field that shows the greeting with the passed in\n",
      " |      text::\n",
      " |      \n",
      " |          # 1. Using interact as a function\n",
      " |          def greeting(text=\"World\"):\n",
      " |              print(\"Hello {}\".format(text))\n",
      " |          interact(greeting, text=\"IPython Widgets\")\n",
      " |      \n",
      " |          # 2. Using interact as a decorator\n",
      " |          @interact\n",
      " |          def greeting(text=\"World\"):\n",
      " |              print(\"Hello {}\".format(text))\n",
      " |      \n",
      " |          # 3. Using interact as a decorator with named parameters\n",
      " |          @interact(text=\"IPython Widgets\")\n",
      " |          def greeting(text=\"World\"):\n",
      " |              print(\"Hello {}\".format(text))\n",
      " |      \n",
      " |      Render an interactive slider widget and prints square of number::\n",
      " |      \n",
      " |          # 1. Using interact as a function\n",
      " |          def square(num=1):\n",
      " |              print(\"{} squared is {}\".format(num, num*num))\n",
      " |          interact(square, num=5)\n",
      " |      \n",
      " |          # 2. Using interact as a decorator\n",
      " |          @interact\n",
      " |          def square(num=2):\n",
      " |              print(\"{} squared is {}\".format(num, num*num))\n",
      " |      \n",
      " |          # 3. Using interact as a decorator with named parameters\n",
      " |          @interact(num=5)\n",
      " |          def square(num=2):\n",
      " |              print(\"{} squared is {}\".format(num, num*num))\n",
      " |  \n",
      " |  __init__(self, cls, options, kwargs={})\n",
      " |      Initialize self.  See help(type(self)) for accurate signature.\n",
      " |  \n",
      " |  options(self, **kwds)\n",
      " |      Change options for interactive functions.\n",
      " |      \n",
      " |      Returns\n",
      " |      -------\n",
      " |      A new :class:`_InteractFactory` which will apply the\n",
      " |      options when called.\n",
      " |  \n",
      " |  widget(self, f)\n",
      " |      Return an interactive function widget for the given function.\n",
      " |      \n",
      " |      The widget is only constructed, not displayed nor attached to\n",
      " |      the function.\n",
      " |      \n",
      " |      Returns\n",
      " |      -------\n",
      " |      An instance of ``self.cls`` (typically :class:`interactive`).\n",
      " |      \n",
      " |      Parameters\n",
      " |      ----------\n",
      " |      f : function\n",
      " |          The function to which the interactive widgets are tied.\n",
      " |  \n",
      " |  ----------------------------------------------------------------------\n",
      " |  Data descriptors defined here:\n",
      " |  \n",
      " |  __dict__\n",
      " |      dictionary for instance variables (if defined)\n",
      " |  \n",
      " |  __weakref__\n",
      " |      list of weak references to the object (if defined)\n",
      "\n"
     ]
    }
   ],
   "source": [
    "help(interact_manual)"
   ]
  },
  {
   "cell_type": "code",
   "execution_count": null,
   "metadata": {},
   "outputs": [],
   "source": []
  }
 ],
 "metadata": {
  "kernelspec": {
   "display_name": "Python 3 (ipykernel)",
   "language": "python",
   "name": "python3"
  },
  "language_info": {
   "codemirror_mode": {
    "name": "ipython",
    "version": 3
   },
   "file_extension": ".py",
   "mimetype": "text/x-python",
   "name": "python",
   "nbconvert_exporter": "python",
   "pygments_lexer": "ipython3",
   "version": "3.9.7"
  },
  "varInspector": {
   "cols": {
    "lenName": 16,
    "lenType": 16,
    "lenVar": 40
   },
   "kernels_config": {
    "python": {
     "delete_cmd_postfix": "",
     "delete_cmd_prefix": "del ",
     "library": "var_list.py",
     "varRefreshCmd": "print(var_dic_list())"
    },
    "r": {
     "delete_cmd_postfix": ") ",
     "delete_cmd_prefix": "rm(",
     "library": "var_list.r",
     "varRefreshCmd": "cat(var_dic_list()) "
    }
   },
   "position": {
    "height": "237.852px",
    "left": "460px",
    "right": "20px",
    "top": "123px",
    "width": "376px"
   },
   "types_to_exclude": [
    "module",
    "function",
    "builtin_function_or_method",
    "instance",
    "_Feature"
   ],
   "window_display": false
  },
  "vscode": {
   "interpreter": {
    "hash": "2f96465d87bf6289a5b887b042903093fc22fa265454e9d3f14e1f3422aac376"
   }
  }
 },
 "nbformat": 4,
 "nbformat_minor": 4
}
