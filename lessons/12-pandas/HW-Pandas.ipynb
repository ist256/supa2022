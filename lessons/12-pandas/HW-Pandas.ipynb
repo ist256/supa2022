{
 "cells": [
  {
   "cell_type": "markdown",
   "metadata": {},
   "source": [
    "# Homework: 7 Day Forecast\n",
    "\n",
    "## The Problem\n",
    "\n",
    "For this assignment, use IPython interact so the user can input a location and then display the **current conditions** and the **7 day weather forecast** for that location. \n",
    "\n",
    "To accomplish this, you will need a Weather API and a Geocoding API. I suggest using the example from lesson 10. OpenWeatherMap is a free service. Their OneCall API should be excatly what you need: https://openweathermap.org/api/one-call-api  The focus of this assignment is loading the 7-day forecast int a data frame and the manipulation of the data frame itself.\n",
    "\n",
    "\n",
    "### Requirements:\n",
    "\n",
    "- Display all temperatures as integer values ( I don't want to see 34.67) in degrees Fahrenheight (imeprial units).\n",
    "- Make sure to show the weather icon for the current conditions: https://openweathermap.org/weather-conditions#How-to-get-icon-URL See example here, for code `10d`: http://openweathermap.org/img/wn/10d@2x.png\n",
    "- The 7 day forecast should display the Day of the week (Monday, Tuesday, etc...) plus the low and high temperatures for that day.\n",
    "\n",
    "\n",
    "### Screenshot of an example run:\n",
    "\n",
    "![Screenshot](https://i.imgur.com/MiSpxaT.png)\n",
    "\n",
    "\n",
    "HINTS and ADVICE:\n",
    "\n",
    "\n",
    "- Use the **problem simplification approach** solve a simpler problem and add complexity as you figure things out.\n",
    "- Hard-code a location. e.g. Syracuse, NY\n",
    "- Start with the weather example from lesson 10. The OneCall API should be excatly what you need: https://openweathermap.org/api/one-call-api \n",
    "- For the `current conditions`, we only need the description weather icon and current temperature. Get that working next.\n",
    "- Next work on getting the 7-day to display in a data frame. \n",
    "- Next work on setting the 7-day to display EXACTLY like the output. There are several approaches:\n",
    "   - You could iterate over the API output building another list of dict with exactly the values required and then displaying that in a data frame. \n",
    "   - You could load the API output into a dataframe then use `to_records()` to iterate over the dataframe to build another data frame\n",
    "   - You could try to manipulate the dataframe with the `apply()` method an a lambda (inline function). This is probably the least amount of code but the most difficult to accomplish.\n",
    "- Once everything above works, introduce IPython interact and allow for the input of any location. You are done!\n"
   ]
  },
  {
   "cell_type": "markdown",
   "metadata": {
    "label": "problem_analysis_cell"
   },
   "source": [
    "## Part 1: Problem Analysis\n",
    "\n",
    "Inputs:\n",
    "\n",
    "```\n",
    "TODO: Inputs\n",
    "```\n",
    "\n",
    "Outputs:\n",
    "\n",
    "```\n",
    "TODO: Outputs\n",
    "```\n",
    "\n",
    "Algorithm (Steps in Program):  \n",
    "\n",
    "```\n",
    "TODO:Steps Here\n",
    "\n",
    "```"
   ]
  },
  {
   "cell_type": "markdown",
   "metadata": {},
   "source": [
    "## Part 2: Code Solution\n",
    "\n",
    "You may write your code in several cells, but place the complete, final working copy of your code solution within this single cell below. Only the within this cell will be considered your solution. Any imports or user-defined functions should be copied into this cell. "
   ]
  },
  {
   "cell_type": "code",
   "execution_count": null,
   "metadata": {
    "label": "code_solution_cell"
   },
   "outputs": [],
   "source": [
    "# Step 2: Write code here\n"
   ]
  },
  {
   "cell_type": "markdown",
   "metadata": {
    "label": "homework_questions_cell"
   },
   "source": [
    "## Part 3: Questions\n",
    "\n",
    "1.Pandas programs are different than typical Python programs. Explain the process you followed to achieve the solution? Which approach did you take to the dataframe?\n",
    "\n",
    "`--== Double-Click and Write Your Answer Below This Line ==--`  \n",
    "\n",
    "\n",
    "2. Did you use `json_normalize()` to flatten the dataframe?\n",
    "\n",
    "`--== Double-Click and Write Your Answer Below This Line ==--`  \n",
    "\n",
    "\n",
    "3. This solution requires little new code was far from easy. This shows that more code != complex code.  Where did you spend most of your time on this assignment?\n",
    "\n",
    "`--== Double-Click and Write Your Answer Below This Line ==--`  \n",
    "\n",
    "\n"
   ]
  },
  {
   "cell_type": "markdown",
   "metadata": {
    "label": "reflection_cell"
   },
   "source": [
    "## Part 4: Reflection\n",
    "\n",
    "Reflect upon your experience completing this assignment. This should be a personal narrative, in your own voice, and cite specifics relevant to the activity as to help the grader understand how you arrived at the code you submitted. Things to consider touching upon: Elaborate on the process itself. Did your original problem analysis work as designed?  How many iterations did you go through before you arrived at the solution? Where did you struggle along the way and how did you overcome it? What did you learn from completing the assignment? What do you need to work on to get better? What was most valuable and least valuable about this exercise? Do you have any suggestions for improvements?\n",
    "\n",
    "To make a good reflection, you should journal your thoughts, questions and comments while you complete the exercise.\n",
    "\n",
    "Keep your response to between 100 and 250 words.\n",
    "\n",
    "`--== Double-Click and Write Your Reflection Below Here ==--`  \n"
   ]
  },
  {
   "cell_type": "code",
   "execution_count": null,
   "metadata": {},
   "outputs": [],
   "source": []
  }
 ],
 "metadata": {
  "anaconda-cloud": {},
  "kernelspec": {
   "display_name": "Python 3 (ipykernel)",
   "language": "python",
   "name": "python3"
  },
  "language_info": {
   "codemirror_mode": {
    "name": "ipython",
    "version": 3
   },
   "file_extension": ".py",
   "mimetype": "text/x-python",
   "name": "python",
   "nbconvert_exporter": "python",
   "pygments_lexer": "ipython3",
   "version": "3.9.7"
  },
  "toc": {
   "base_numbering": 1,
   "nav_menu": {},
   "number_sections": false,
   "sideBar": false,
   "skip_h1_title": false,
   "title_cell": "Table of Contents",
   "title_sidebar": "Contents",
   "toc_cell": false,
   "toc_position": {},
   "toc_section_display": false,
   "toc_window_display": false
  },
  "varInspector": {
   "cols": {
    "lenName": 16,
    "lenType": 16,
    "lenVar": 40
   },
   "kernels_config": {
    "python": {
     "delete_cmd_postfix": "",
     "delete_cmd_prefix": "del ",
     "library": "var_list.py",
     "varRefreshCmd": "print(var_dic_list())"
    },
    "r": {
     "delete_cmd_postfix": ") ",
     "delete_cmd_prefix": "rm(",
     "library": "var_list.r",
     "varRefreshCmd": "cat(var_dic_list()) "
    }
   },
   "types_to_exclude": [
    "module",
    "function",
    "builtin_function_or_method",
    "instance",
    "_Feature"
   ],
   "window_display": false
  }
 },
 "nbformat": 4,
 "nbformat_minor": 4
}
