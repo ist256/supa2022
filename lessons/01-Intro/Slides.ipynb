{
 "cells": [
  {
   "cell_type": "markdown",
   "metadata": {
    "slideshow": {
     "slide_type": ""
    }
   },
   "source": [
    "# IST256 Applications Programming For Information Systems\n",
    "\n",
    "## SUPA\n",
    "\n",
    "## Michael Fudge\n"
   ]
  },
  {
   "cell_type": "markdown",
   "metadata": {
    "slideshow": {
     "slide_type": "slide"
    }
   },
   "source": [
    "# Understanding This Course's Learning Model\n",
    "\n",
    "Learning is distributed across the week, and forced upon you through participation activities. Why is it forced? To help you build successful habits to learning! \n",
    "\n",
    "1. **Read before first lecture.** This is your initial exposure to the topic. Record questions, doubts, and uncertainties you have as you read. This is participation graded. Z01-Z10\n",
    "2. **Large group**. Reinforce what you learned through your reading. You observe these topics within the Jupyterhub context. It is best to take notes and ask questions. No writing code at this point. \n",
    "3. **Lab**. Your first foray into writing code, you are eased into it. There is reading code and writing code, and walk-through video should you need it. This is participation graded. L01-L13\n",
    "4. **Small Group - Second Lecture**. This is your first foray into problem solving with code. It's done in a group setting. Participation is graded. S01-S13\n",
    "5. **Homework**. This is an opportunity to demonstrate you can problem-solve a code solution on your own with minimal assistance. There are advice videos, and of course support. This is graded. H01-H13\n",
    "6. **Metacognition** You will be asked to think about what you have learned and express your learning journey as part of turning in your work. What you have learned from the work is more important than the work itself. "
   ]
  },
  {
   "cell_type": "markdown",
   "metadata": {
    "slideshow": {
     "slide_type": "slide"
    }
   },
   "source": [
    "# What will we do in First Lecture ?\n",
    "\n",
    "- A time for reinforcing what you read in the Zybook / Severance / Other Readings.\n",
    "- We also go over the previous week's homework.\n",
    "- Concepts are reinforced through code examples, in JupyterHub.\n",
    "- Active learning lecture with polls and Chat.\n",
    "- Don't be afraid to ask questions. This is YOUR TIME. USE IT.\n",
    "\n"
   ]
  },
  {
   "cell_type": "markdown",
   "metadata": {
    "slideshow": {
     "slide_type": "slide"
    }
   },
   "source": []
  },
  {
   "cell_type": "markdown",
   "metadata": {
    "slideshow": {
     "slide_type": "slide"
    }
   },
   "source": [
    "# Your Weekly Routine\n",
    "\n",
    "- Monday: assigned readings and large group lecture / reinforce concepts\n",
    "- Tuesday: complete your lab / coding walk-thru\n",
    "- Wednesday: small group sessons  / practice coding\n",
    "- Saturday: last day to turn in homework / reinforce what was learned through practice\n",
    "\n",
    "\n",
    "- No late work, so be mindful of due dates check Blackboard / My Grades or at [https://ist256.com](https://ist256.com)"
   ]
  },
  {
   "cell_type": "markdown",
   "metadata": {
    "slideshow": {
     "slide_type": "slide"
    }
   },
   "source": [
    "# IST256 Lesson 01\n",
    "## Introduction to Python Programming\n",
    "\n",
    "\n",
    "- Zybook Ch 1\n",
    "- Severance Ch 1\n",
    "- Your prepared questions\n",
    "\n"
   ]
  },
  {
   "cell_type": "markdown",
   "metadata": {
    "slideshow": {
     "slide_type": "slide"
    }
   },
   "source": [
    "# Connect Activity\n",
    "\n",
    "Have you programmed a computer before?\n",
    "\n",
    "A. YES  \n",
    "B. NO  \n",
    "C. No Sure  \n",
    "D. Rather Not Say  \n",
    "\n",
    "## Vote Now: [https://poll.ist256.com](https://poll.ist256.com)"
   ]
  },
  {
   "cell_type": "markdown",
   "metadata": {
    "slideshow": {
     "slide_type": "slide"
    }
   },
   "source": [
    "# What is programming (a.k.a. Coding)?\n",
    "\n",
    "- **Programming** is the act of you telling the computer to perform a series of tasks.\n",
    "- You must tell the computer **exactly** what you want it to do, and must do so in a way that it can understand.\n",
    "- The instructions we give the computer is called **code** or **program**.\n",
    "- Code which follows an sequence of steps is known as an **algorithm**.\n",
    "- Algorithms do not need to be written in code."
   ]
  },
  {
   "cell_type": "markdown",
   "metadata": {
    "slideshow": {
     "slide_type": "slide"
    }
   },
   "source": [
    "# How Mike Eats M&M's ++\n",
    "\n",
    "```\n",
    "1. Open bag\n",
    "2. While bag is not empty:\n",
    "3.   Pour out handful of M&M's\n",
    "4.   Toss into mouth\n",
    "5.   Chew and Swallow Euphorically\n",
    "6. Pout now that the bag is empty.\n",
    "```\n",
    "\n",
    "++ Example of an algorithm not written in code\n"
   ]
  },
  {
   "cell_type": "markdown",
   "metadata": {
    "slideshow": {
     "slide_type": "slide"
    }
   },
   "source": [
    "# Q: Why is Programming Notoriourly Diffciult?\n"
   ]
  },
  {
   "cell_type": "markdown",
   "metadata": {
    "slideshow": {
     "slide_type": "fragment"
    }
   },
   "source": [
    "# A: It's Not\n",
    "\n",
    "### \"Writing code is relatively straightforward; solving problems with code is not.\"  -- Your Professor\n",
    "\n",
    "### \"The purpose of coding is to solve problems.\" --  Your Professor, Again"
   ]
  },
  {
   "cell_type": "markdown",
   "metadata": {
    "slideshow": {
     "slide_type": "slide"
    }
   },
   "source": [
    "# Problem Solving With Code\n",
    "\n",
    "- **Is**\n",
    "  - Difficult\n",
    "  - Time Consuming\n",
    "  - Frustrating\n",
    "  - Rewarding\n",
    "- **Requires**\n",
    "  - Patience\n",
    "  - Precision\n",
    "  - Persistence\n",
    "  - Practice (Lots of it)"
   ]
  },
  {
   "cell_type": "markdown",
   "metadata": {
    "slideshow": {
     "slide_type": "slide"
    }
   },
   "source": [
    "# Course Learning Outcomes Will Not Come Easy\n",
    "\n",
    "- Analyze complex problems by thinking computationally and systematically.\n",
    "- Solve practical, real-world problems using a modern computer programming language..\n",
    "- Demonstrate the ability to read, write, discuss and code confidently.\n",
    "- Understand how to code in teams, collaborate with others and manage source code.\n",
    "- Acquire new programming knowledge independently."
   ]
  },
  {
   "cell_type": "markdown",
   "metadata": {
    "slideshow": {
     "slide_type": "slide"
    }
   },
   "source": [
    "# Why Learn the Python Programming Language?\n",
    "\n",
    "- Easy to learn with simple syntax.\n",
    "- Has a wealth of existing code you can leverage in your programs.\n",
    "- You can do complex things with very little typing.\n",
    "- Very popular with information professionals (Data Science, Analytics, Information Security).\n",
    "- Consistently one of the top 5 programming languages on the TIOBE Index [https://www.tiobe.com/tiobe-index/](https://www.tiobe.com/tiobe-index/)"
   ]
  },
  {
   "cell_type": "markdown",
   "metadata": {
    "slideshow": {
     "slide_type": "slide"
    }
   },
   "source": [
    "# Enough Talk! Let's Get Doing!\n"
   ]
  },
  {
   "cell_type": "markdown",
   "metadata": {
    "slideshow": {
     "slide_type": "slide"
    }
   },
   "source": [
    "# Your First Problem Solving Approach:\n",
    "\n",
    "## Input => Process => Output\n",
    "\n",
    "1. Identify the problem inputs (requirements)\n",
    "2. Identify the problem outputs (results)\n",
    "3. Write an algorithm to transform inputs to outputs.\n",
    "4. If you don't know how to do a step... research it!\n",
    "\n"
   ]
  },
  {
   "cell_type": "markdown",
   "metadata": {
    "slideshow": {
     "slide_type": "slide"
    }
   },
   "source": [
    "# Python Output\n",
    "\n",
    "- The built in function `print()` is used to display output in Python.\n",
    "- It takes one argument in single or double quotes known as a string literal. \n",
    "- The string literal is enclosed in single or double quotes. `'hi'` or `\"hi\"`\n",
    "- Multiple string literals may be separated by a comma.\n"
   ]
  },
  {
   "cell_type": "markdown",
   "metadata": {
    "slideshow": {
     "slide_type": "slide"
    }
   },
   "source": [
    "# Watch Me Code 1\n",
    "\n",
    "Demonstrating Python's built in `print()` function:\n",
    "\n",
    "- String literals\n",
    "- Single and double quotes\n",
    "- More than one argument to the function\n"
   ]
  },
  {
   "cell_type": "markdown",
   "metadata": {
    "slideshow": {
     "slide_type": "slide"
    }
   },
   "source": [
    "# Check Yourself 1\n",
    "\n",
    "Which Python statement will output `welcome` ?\n",
    "\n",
    "A. `print(welcome)`  \n",
    "B. `print(\"welcome\")`  \n",
    "C. `print \"welcome\"`  \n",
    "D. `print welcome` \n",
    "\n",
    "## Vote Now: [https://poll.ist256.com](https://poll.ist256.com)\n",
    "\n"
   ]
  },
  {
   "cell_type": "markdown",
   "metadata": {
    "slideshow": {
     "slide_type": "slide"
    }
   },
   "source": [
    "# Variables\n",
    "\n",
    "- **Variables** are named areas of computer memory for storing data. \n",
    "- The **variable name** can be anything but should make symbolic sense to the programmer.\n",
    "- We **write** to the variable’s memory location with the *assignment statement* (=)\n",
    "- We **read** from the variable by calling its name. \n",
    "- Variable names must begin with a letter or _ and must only contain letters, numbers or _.\n"
   ]
  },
  {
   "cell_type": "markdown",
   "metadata": {
    "slideshow": {
     "slide_type": "slide"
    }
   },
   "source": [
    "# Python Input\n",
    "\n",
    "- The built in function `input()` accepts input from the user. \n",
    "- It takes one argument a **string literal** which prompts (provides instructions to the user).\n",
    "- Input is commonly assigned to a **variable** so that the input can be used later on. \n"
   ]
  },
  {
   "cell_type": "markdown",
   "metadata": {
    "slideshow": {
     "slide_type": "slide"
    }
   },
   "source": [
    "# Watch Me Code 2\n",
    "\n",
    "- The built in `input()` function\n",
    "- Using a prompt\n",
    "- Storing the output from `input()` into a variable\n",
    "- Printing the variable"
   ]
  },
  {
   "cell_type": "markdown",
   "metadata": {
    "slideshow": {
     "slide_type": "slide"
    }
   },
   "source": [
    "# Check Yourself 2\n",
    "\n",
    "For the following code, which is the prompt?  \n",
    "`x = input('y')`\n",
    "\n",
    "A. `input`  \n",
    "B. `'y'`  \n",
    "C. `=`  \n",
    "D. `x`  \n",
    "\n",
    "## Vote Now: [https://poll.ist256.com](https://poll.ist256.com)"
   ]
  },
  {
   "cell_type": "markdown",
   "metadata": {
    "slideshow": {
     "slide_type": "slide"
    }
   },
   "source": [
    "# F-Strings\n",
    "\n",
    "- F-Strings are Python's answer to **string interpolation**.\n",
    "- This replaces the variable name with its value within a string.\n",
    "- Called an F-string because the `f` tells Python to interpolate the string.\n"
   ]
  },
  {
   "cell_type": "code",
   "execution_count": 23,
   "metadata": {
    "slideshow": {
     "slide_type": "fragment"
    }
   },
   "outputs": [
    {
     "name": "stdout",
     "output_type": "stream",
     "text": [
      "{name} was curious.\n",
      "Wilma was curious.\n"
     ]
    }
   ],
   "source": [
    "name = 'Wilma'\n",
    "print(\"{name} was curious.\")\n",
    "print(f\"{name} was curious.\")"
   ]
  },
  {
   "cell_type": "markdown",
   "metadata": {
    "slideshow": {
     "slide_type": "slide"
    }
   },
   "source": [
    "# Watch Me Code 3\n",
    "\n",
    "Put the `input()` and `print()` statements together.\n",
    "\n",
    "- Inputs and outputs into a program\n",
    "- Prompts that change based on input\n",
    "- Demonstrate use of `sep` and `end` arguments to `print()`\n",
    "- F-Strings for formatting variables through interpolation.\n"
   ]
  },
  {
   "cell_type": "markdown",
   "metadata": {
    "slideshow": {
     "slide_type": "slide"
    }
   },
   "source": [
    "# End To End Example\n",
    "\n",
    "### Limerick Generator!\n",
    "\n",
    "- Write a program to prompt to create a custom limerick poem based on the inputs.\n",
    "\n",
    "Here's the story I want to make:\n",
    "\n",
    "- There once was a man named `[mans-name]`. He liked to eat `[food-rhymes-with-name]`. One day he ate so much `[food-rhymes-with-name]`, that he got the `[ailment]`, and had to run to the `[place-rhymes-with-name]`.\n",
    "- Input? Output? Process?"
   ]
  }
 ],
 "metadata": {
  "celltoolbar": "Slideshow",
  "kernelspec": {
   "display_name": "Python 3 (ipykernel)",
   "language": "python",
   "name": "python3"
  },
  "language_info": {
   "codemirror_mode": {
    "name": "ipython",
    "version": 3
   },
   "file_extension": ".py",
   "mimetype": "text/x-python",
   "name": "python",
   "nbconvert_exporter": "python",
   "pygments_lexer": "ipython3",
   "version": "3.9.7"
  },
  "toc": {
   "base_numbering": 1,
   "nav_menu": {},
   "number_sections": false,
   "sideBar": false,
   "skip_h1_title": false,
   "title_cell": "Table of Contents",
   "title_sidebar": "Contents",
   "toc_cell": false,
   "toc_position": {},
   "toc_section_display": false,
   "toc_window_display": false
  },
  "varInspector": {
   "cols": {
    "lenName": 16,
    "lenType": 16,
    "lenVar": 40
   },
   "kernels_config": {
    "python": {
     "delete_cmd_postfix": "",
     "delete_cmd_prefix": "del ",
     "library": "var_list.py",
     "varRefreshCmd": "print(var_dic_list())"
    },
    "r": {
     "delete_cmd_postfix": ") ",
     "delete_cmd_prefix": "rm(",
     "library": "var_list.r",
     "varRefreshCmd": "cat(var_dic_list()) "
    }
   },
   "types_to_exclude": [
    "module",
    "function",
    "builtin_function_or_method",
    "instance",
    "_Feature"
   ],
   "window_display": false
  },
  "vscode": {
   "interpreter": {
    "hash": "2f96465d87bf6289a5b887b042903093fc22fa265454e9d3f14e1f3422aac376"
   }
  }
 },
 "nbformat": 4,
 "nbformat_minor": 2
}
