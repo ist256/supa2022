{
 "cells": [
  {
   "cell_type": "markdown",
   "metadata": {},
   "source": [
    "# Now You Code In Class: Gathering Student Data\n",
    "\n",
    "\n",
    "## The Problem\n",
    "\n",
    "Write a program which gathers student data such as name, email, gpa and major then prints out a student profile card with a layout EXACTLY like this:\n",
    "\n",
    "### Sample Output:\n",
    "\n",
    "```\n",
    "===== STUDENT PROFILE =====\n",
    "NAME  : Michael Fudge\n",
    "EMAIL : mafudge@syr.edu\n",
    "GPA   : 4.0\n",
    "MAJOR : Information Studies\n",
    "```\n",
    "\n",
    "Of course your actual output of name, email, GPA and major, will vary based on the inputs, which is the point of programming in the first place! "
   ]
  },
  {
   "cell_type": "markdown",
   "metadata": {},
   "source": [
    "## Problem Analysis: \"Thinking About The Problem\"\n",
    "\n",
    "The first thing we should do before writing ANY CODE is have a good understanding of the problem. After all you can't solve a problem in code unless you understand it first!  \n",
    "\n",
    "As part of your **practice** routine in this course, you will formalize your **understanding** of the problem by articulating:\n",
    "\n",
    "1. the data inputs into the program\n",
    "2. the information output from the program\n",
    "3. the algorithm - the high level steps from input to output. \n",
    "\n",
    "Again, the purpose of this is to communicate your understanding of the problem **to your professor and more importantly yourself.** \n",
    "\n",
    "Of course, defining a problem this way is typically not an easy thing to do, which is why we will learn several  **problem-solving approaches** in this class.\n"
   ]
  },
  {
   "cell_type": "markdown",
   "metadata": {},
   "source": [
    "## Problem Solving Approach: Work Backwards \n",
    "\n",
    "The **work-backwards** approach to problem solving is often used in science and mathematics. It works well when we have an idea of the program's output but are unclear how to start the program. It can be used in this case because we expect out of the program itself is clearly understood. \n",
    "\n",
    "The approach is as follows:\n",
    "\n",
    "1. start with the output\n",
    "2. figure out which variables are used in the output (what part of the output changes versus stays the same - the changing parts use variables)\n",
    "3. keep working backwards until the variables become inputs."
   ]
  },
  {
   "cell_type": "markdown",
   "metadata": {},
   "source": [
    "### PROMPT 1: Start with the output\n",
    "\n",
    "Write Python code to print the example output under the problem section exactly as shown:"
   ]
  },
  {
   "cell_type": "markdown",
   "metadata": {},
   "source": [
    "```\n",
    "===== STUDENT PROFILE =====\n",
    "NAME  : Michael Fudge\n",
    "EMAIL : mafudge@syr.edu\n",
    "GPA   : 4.0\n",
    "MAJOR : Information Studies\n",
    "```"
   ]
  },
  {
   "cell_type": "code",
   "execution_count": null,
   "metadata": {
    "scrolled": true
   },
   "outputs": [],
   "source": [
    "# Code here\n",
    "print('''\n",
    "===== STUDENT PROFILE =====\n",
    "NAME  : Michael Fudge\n",
    "EMAIL : mafudge@syr.edu\n",
    "GPA   : 4.0\n",
    "MAJOR : Information Studies\n",
    "''')\n"
   ]
  },
  {
   "cell_type": "markdown",
   "metadata": {},
   "source": [
    "\n",
    "### PROMPT 2: Which aspects of the output should change?\n",
    "\n",
    "Which aspects of the output should change and therefore be written using variables? Write a Python assignment statement for each variable assigning it the **exact** value from the output.\n"
   ]
  },
  {
   "cell_type": "code",
   "execution_count": null,
   "metadata": {},
   "outputs": [],
   "source": [
    "# Code here\n",
    "name = input(\"Enter your Name: \")\n",
    "email = input(\"Enter your Email: \")\n",
    "gpa = input(\"Enter your GPA: \")\n",
    "major = input(\"Enter your Major: \")\n",
    "\n",
    "print(f'''\n",
    "===== STUDENT PROFILE =====\n",
    "NAME  : {name}\n",
    "EMAIL : {email}\n",
    "GPA   : {gpa}\n",
    "MAJOR : {major}\n",
    "''')\n"
   ]
  },
  {
   "cell_type": "code",
   "execution_count": 7,
   "metadata": {},
   "outputs": [
    {
     "data": {
      "application/vnd.jupyter.widget-view+json": {
       "model_id": "dc7ad77cd7b4407fb22e3066b4e66a74",
       "version_major": 2,
       "version_minor": 0
      },
      "text/plain": [
       "interactive(children=(Text(value='', description='name'), Text(value='@syr.edu', description='email'), FloatSl…"
      ]
     },
     "metadata": {},
     "output_type": "display_data"
    }
   ],
   "source": [
    "from ipywidgets import interact_manual\n",
    "majors = [\"Accounting\", \"Comp Sci\", \"Psych\"]\n",
    "\n",
    "@interact_manual(name=\"\", email=\"@syr.edu\", gpa=(0.0,4.0,0.1), major=majors)\n",
    "def onclick(name,email, gpa, major):\n",
    "    print(f'''\n",
    "    ===== STUDENT PROFILE =====\n",
    "    NAME  : {name}\n",
    "    EMAIL : {email}\n",
    "    GPA   : {gpa}\n",
    "    MAJOR : {major}\n",
    "    ''')"
   ]
  },
  {
   "cell_type": "code",
   "execution_count": null,
   "metadata": {},
   "outputs": [],
   "source": []
  },
  {
   "cell_type": "markdown",
   "metadata": {},
   "source": [
    "### PROMPT 3: Re-write the code from prompt 1 to use your variables\n",
    "\n",
    "Now we re-write the code from prompt 1 but use variables instead. Try using f-strings as they provide the best formatting options."
   ]
  },
  {
   "cell_type": "code",
   "execution_count": null,
   "metadata": {},
   "outputs": [],
   "source": [
    "# Code here\n"
   ]
  },
  {
   "cell_type": "code",
   "execution_count": null,
   "metadata": {},
   "outputs": [],
   "source": []
  },
  {
   "cell_type": "markdown",
   "metadata": {},
   "source": [
    "### PROMPT 4: What transformations are required to get the variables from input to output?\n",
    "\n",
    "Are there any transformations required of the variables from input to output? For example, you might input first name and last name separarely, then combine them to full name."
   ]
  },
  {
   "cell_type": "code",
   "execution_count": null,
   "metadata": {},
   "outputs": [],
   "source": [
    "# Code here\n"
   ]
  },
  {
   "cell_type": "markdown",
   "metadata": {},
   "source": [
    "### PROMPT 5: Finalize the inputs\n",
    "\n",
    "combine prompts 3 and 4 into a single program, replace the initialized variables with Python inputs and prompts. "
   ]
  },
  {
   "cell_type": "code",
   "execution_count": null,
   "metadata": {},
   "outputs": [],
   "source": [
    "# Code here... now its written!\n"
   ]
  },
  {
   "cell_type": "markdown",
   "metadata": {
    "collapsed": true
   },
   "source": [
    "## Step 1: Problem Analysis\n",
    "\n",
    "Inputs: PROMPT 6\n",
    "\n",
    "Outputs: PROMPT 7\n",
    "\n",
    "Algorithm (Steps in Program):\n",
    "\n",
    "PROMPT 8\n"
   ]
  },
  {
   "cell_type": "code",
   "execution_count": null,
   "metadata": {},
   "outputs": [],
   "source": [
    "# Step 2: Write code here\n",
    "\n",
    "\n"
   ]
  },
  {
   "cell_type": "code",
   "execution_count": null,
   "metadata": {
    "scrolled": false
   },
   "outputs": [],
   "source": []
  },
  {
   "cell_type": "code",
   "execution_count": null,
   "metadata": {},
   "outputs": [],
   "source": []
  }
 ],
 "metadata": {
  "anaconda-cloud": {},
  "kernelspec": {
   "display_name": "Python 3 (ipykernel)",
   "language": "python",
   "name": "python3"
  },
  "language_info": {
   "codemirror_mode": {
    "name": "ipython",
    "version": 3
   },
   "file_extension": ".py",
   "mimetype": "text/x-python",
   "name": "python",
   "nbconvert_exporter": "python",
   "pygments_lexer": "ipython3",
   "version": "3.9.7"
  },
  "toc": {
   "base_numbering": 1,
   "nav_menu": {},
   "number_sections": false,
   "sideBar": false,
   "skip_h1_title": false,
   "title_cell": "Table of Contents",
   "title_sidebar": "Contents",
   "toc_cell": false,
   "toc_position": {},
   "toc_section_display": false,
   "toc_window_display": false
  },
  "varInspector": {
   "cols": {
    "lenName": 16,
    "lenType": 16,
    "lenVar": 40
   },
   "kernels_config": {
    "python": {
     "delete_cmd_postfix": "",
     "delete_cmd_prefix": "del ",
     "library": "var_list.py",
     "varRefreshCmd": "print(var_dic_list())"
    },
    "r": {
     "delete_cmd_postfix": ") ",
     "delete_cmd_prefix": "rm(",
     "library": "var_list.r",
     "varRefreshCmd": "cat(var_dic_list()) "
    }
   },
   "position": {
    "height": "144.854px",
    "left": "2077.43px",
    "right": "20px",
    "top": "100px",
    "width": "350px"
   },
   "types_to_exclude": [
    "module",
    "function",
    "builtin_function_or_method",
    "instance",
    "_Feature"
   ],
   "window_display": true
  }
 },
 "nbformat": 4,
 "nbformat_minor": 1
}
