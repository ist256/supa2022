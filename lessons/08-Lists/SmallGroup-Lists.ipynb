{
 "cells": [
  {
   "cell_type": "markdown",
   "metadata": {},
   "source": [
    "# Now You Code In Class: Beer Calories 2.0\n",
    "\n",
    "Let's improve the Beer Calories program from the previous unit. If you don't recall this example, here it is below.\n"
   ]
  },
  {
   "cell_type": "code",
   "execution_count": 1,
   "metadata": {},
   "outputs": [
    {
     "name": "stdout",
     "output_type": "stream",
     "text": [
      "  % Total    % Received % Xferd  Average Speed   Time    Time     Time  Current\n",
      "                                 Dload  Upload   Total   Spent    Left  Speed\n",
      "100  5836  100  5836    0     0  37574      0 --:--:-- --:--:-- --:--:-- 37651\n"
     ]
    }
   ],
   "source": [
    "!curl https://raw.githubusercontent.com/mafudge/datasets/master/ist256/08-Lists/beer-calories.txt -o beer-calories.txt"
   ]
  },
  {
   "cell_type": "markdown",
   "metadata": {},
   "source": [
    "## Original Solution"
   ]
  },
  {
   "cell_type": "code",
   "execution_count": 2,
   "metadata": {},
   "outputs": [
    {
     "name": "stdout",
     "output_type": "stream",
     "text": [
      "Enter a beer name: Coors\n",
      "Searching for Coors...\n",
      "Coors Banquet has 149 calories per 12oz.\n"
     ]
    }
   ],
   "source": [
    "filename = \"beer-calories.txt\"\n",
    "try:\n",
    "    with open (filename,\"r\") as f:\n",
    "        beer = input(\"Enter a beer name: \").title()\n",
    "        print(\"Searching for %s...\" % (beer))\n",
    "        for line in f.readlines():\n",
    "            if beer in line:\n",
    "                beer_name = line.split(',')[0]\n",
    "                calories = int(line.split(',')[1])\n",
    "                print(\"%s has %d calories per 12oz.\" % (beer_name, calories))\n",
    "                break\n",
    "        else:\n",
    "            print(\"I could not find %s\" % (beer))\n",
    "except FileNotFoundError:\n",
    "    print(\"Could not find data file '%s'\" % (filename))"
   ]
  },
  {
   "cell_type": "markdown",
   "metadata": {},
   "source": [
    "## Upgraded Program\n",
    "\n",
    "- maintain a list of beers and a list of calories you have consumed\n",
    "- persist list of beers /calories you have consumed to a file.\n",
    "- use IPython interact to make the program more interesting \n",
    "  - drop down to add beer from list of all beers - no need to type in the beer!\n",
    "  - button to display all beers on your consumption list\n",
    "\n",
    "ALGORITHM:\n",
    "\n",
    "    1. read in all the the beers and calories from `beer-calories.txt' into two lists\n",
    "    2. When you've selected a beer to add:\n",
    "       2.1 read in the mybeers and mycalories from 'mybeers.txt' into two lists\n",
    "       2.2 use the beer selected to lookup the calories for the beer selected (in the calories list)\n",
    "       2.3 append the beer and calories to the mybeers and mycalories lists respectively\n",
    "       2.4 write the mybeers and mycalories lists back out to the mybeers.txt file in this format beer,cal\n",
    "    3. When you've select to display my beers:\n",
    "       3.1 for each beer in mybeers:\n",
    "       3.2    print beer and calories for that beer\n",
    "       \n",
    "       \n",
    "### Best approach to take here is the `Top Down` approach\n",
    "\n",
    "Since we have an algorithm, but each step needs to be refined. So we figure out how to write each step as code independently and then combine together at the end. Some steps require user defined functions. \n",
    "       "
   ]
  },
  {
   "cell_type": "markdown",
   "metadata": {},
   "source": [
    "# Step 1a: `readBeerData()` Problem Analysis\n",
    "\n",
    "The `readBeerData()` function, when given a file in the format. One beer per row, delimited by a comma separating beer from calories:\n",
    "\n",
    "    beer name,calories\n",
    "    another beer name,other calories\n",
    "    3rd beer name, 3rd calories\n",
    "    \n",
    "will return two parallell lists of beers and calories. Where the ith beer in the list and the ith calorie in the list belong together.\n",
    "\n",
    "\n",
    "INPUTS:\n",
    "\n",
    "    PROMPT 1: Beer file\n",
    "    \n",
    "OUTPUTS: \n",
    "\n",
    "    PROMPT 2: list of names, list of cals\n",
    "    \n",
    "ALGORITHM:\n",
    "\n",
    "    PROMPT 3\n",
    "    \n",
    "    for line in file\n",
    "        split line into beer cals \n",
    "        append name to beerlist\n",
    "        append cals to calorielist\n",
    "        \n",
    "    \n",
    "How do we test this to make sure its correct?\n",
    "\n",
    "    PROMPT 4:\n",
    "    look at a beer cal row and verify with index.\n",
    "    \n",
    "## Step 1b: `readBeerData()` Code"
   ]
  },
  {
   "cell_type": "code",
   "execution_count": 7,
   "metadata": {},
   "outputs": [],
   "source": [
    "#PROMPT 5 - Write Function\n",
    "def readBeerData(filename=\"beer-calories.txt\"):\n",
    "    beers = []\n",
    "    cals = []\n",
    "    with open (filename,\"r\") as f:\n",
    "        for line in f.readlines():\n",
    "            beer_name = line.split(',')[0]\n",
    "            calories = int(line.split(',')[1])\n",
    "            beers.append(beer_name)\n",
    "            cals.append(calories)\n",
    "    return beers, cals \n"
   ]
  },
  {
   "cell_type": "markdown",
   "metadata": {},
   "source": [
    "   \n",
    "## Step 1c: `readBeerData()` Test"
   ]
  },
  {
   "cell_type": "code",
   "execution_count": 10,
   "metadata": {},
   "outputs": [
    {
     "name": "stdout",
     "output_type": "stream",
     "text": [
      "beer2\n",
      "2\n"
     ]
    }
   ],
   "source": [
    "#PROMPT 6 - Write Test\n",
    "filename = 'test-beers.txt'\n",
    "b,c = readBeerData(filename=filename)\n",
    "print(b[1])\n",
    "print(c[1])"
   ]
  },
  {
   "cell_type": "markdown",
   "metadata": {},
   "source": [
    "## Step 2:\n",
    "\n",
    "    2. When you've selected a beer to add:\n",
    "       2.1 read in the mybeers and mycalories from 'mybeers.txt' into two lists\n",
    "       2.2 use the beer selected to lookup the calories for the beer selected (in the calories list)\n",
    "       2.3 append the beer and calories to the mybeers and mycalories lists respectively\n",
    "       2.4 write the mybeers and mycalories lists back out to the mybeers.txt file in this format beer,cal\n",
    "    \n",
    "### Which of these steps requires its own function?\n",
    "\n",
    "\n",
    "- `2.1` re-use the `readBeerData()` function -just use the `mybeers.txt` file instead.\n",
    "- `2.2` Write code to do this based on sample from `PROMPT 6`\n",
    "\n",
    "For example, for input `beer2` get the calories using code (should be `2.0`)\n"
   ]
  },
  {
   "cell_type": "code",
   "execution_count": 13,
   "metadata": {},
   "outputs": [
    {
     "name": "stdout",
     "output_type": "stream",
     "text": [
      "Enter name of beer: Coors Banquet\n",
      "149\n"
     ]
    }
   ],
   "source": [
    "# PROMPT 7 - Write code for 2.2\n",
    "mybeers = []\n",
    "mycalories = []\n",
    "beer_list, cal_list = readBeerData()\n",
    "beer = input(\"Enter name of beer: \")\n",
    "index = beer_list.index(beer)\n",
    "print(cal_list[index])"
   ]
  },
  {
   "cell_type": "markdown",
   "metadata": {},
   "source": [
    "- `2.3` `appending` values to a list should be trivial.\n",
    "- `2.4` This will require a function `writeBeerData()`\n",
    "\n",
    "## Step 2.4a: `writeBeerData()` Problem Analysis\n",
    "\n",
    "The `writeBeerData()` function, when given a file and a list of beers and calories will write to the file in the format. One beer per row, delimited by a comma separating beer from calories:\n",
    "\n",
    "    beer name,calories\n",
    "    another beer name,other calories\n",
    "    3rd beer name, 3rd calories\n",
    "    \n",
    "\n",
    "INPUTS:\n",
    "\n",
    "    PROMPT 8\n",
    "    \n",
    "OUTPUTS: \n",
    "\n",
    "    PROMPT 9\n",
    "    \n",
    "ALGORITHM:\n",
    "\n",
    "    PROMPT 10\n",
    "    \n",
    "    \n",
    "How do we test this to make sure its correct?\n",
    "\n",
    "    PROMPT 11\n",
    "    \n",
    "## Step 2.4b: `writeBeerData()` Code"
   ]
  },
  {
   "cell_type": "code",
   "execution_count": null,
   "metadata": {},
   "outputs": [],
   "source": [
    "q# PROMPT 12 - function\n"
   ]
  },
  {
   "cell_type": "markdown",
   "metadata": {},
   "source": [
    "## Step 2.4c: `writeBeerData()` Test"
   ]
  },
  {
   "cell_type": "code",
   "execution_count": null,
   "metadata": {},
   "outputs": [],
   "source": [
    "# PROMPT 13 - test code"
   ]
  },
  {
   "cell_type": "markdown",
   "metadata": {},
   "source": [
    "## Step 3:\n",
    "\n",
    "    3. When you've select to display my beers:\n",
    "       3.1 for each beer in mybeers:\n",
    "       3.2    print beer and calories for that beer\n",
    "       \n",
    "## Step 3:a: `printBeers()` Problem Analysis\n",
    "\n",
    "       \n",
    "Let's Write this as a function `printBeers()` which when given a list of beers and calories will show each beer its calories and the total calories.\n",
    " \n",
    "INPUTS:\n",
    "\n",
    "    PROMPT 14\n",
    "    \n",
    "OUTPUTS: \n",
    "\n",
    "    PROMPT 15\n",
    "    \n",
    "ALGORITHM:\n",
    "\n",
    "    PROMPT 16\n",
    "    \n",
    "    \n",
    "How do we test this to make sure its correct?\n",
    "\n",
    "    PROMPT 17\n",
    "    \n",
    "## Step 3b: `printBeers()` Code"
   ]
  },
  {
   "cell_type": "code",
   "execution_count": null,
   "metadata": {},
   "outputs": [],
   "source": [
    "# PROMPT 18 TODO Write function"
   ]
  },
  {
   "cell_type": "markdown",
   "metadata": {},
   "source": [
    "## Step 3c: `printBeers()` Test\n",
    "\n",
    "Use the beers and calories from PROMPT6"
   ]
  },
  {
   "cell_type": "code",
   "execution_count": null,
   "metadata": {},
   "outputs": [],
   "source": [
    "# PROMPT 19 TODO Write Test"
   ]
  },
  {
   "cell_type": "markdown",
   "metadata": {},
   "source": [
    "## Let's Learn Some New Interact Behaviors\n",
    "\n",
    "- Displaying image... for fun!\n",
    "- list drop down of values... instead of typing in their names\n",
    "- using automatic interactions (notice how we need a sentinel to NOT automatically run the interact until a selection is made.)\n",
    "- clearing the output\n",
    "- adding a 2nd action with a button\n"
   ]
  },
  {
   "cell_type": "code",
   "execution_count": 14,
   "metadata": {},
   "outputs": [
    {
     "data": {
      "text/html": [
       "<h1>Pick a Fruit!</h1>"
      ],
      "text/plain": [
       "<IPython.core.display.HTML object>"
      ]
     },
     "metadata": {},
     "output_type": "display_data"
    },
    {
     "data": {
      "text/html": [
       "<img src=\"https://www.healthyeating.org/images/default-source/home-0.0/nutrition-topics-2.0/general-nutrition-wellness/2-2-2-3foodgroups_fruits_detailfeature.jpg\" width=\"200\"/>"
      ],
      "text/plain": [
       "<IPython.core.display.Image object>"
      ]
     },
     "metadata": {},
     "output_type": "display_data"
    },
    {
     "data": {
      "application/vnd.jupyter.widget-view+json": {
       "model_id": "58319a526d254977aa83b839426ab85c",
       "version_major": 2,
       "version_minor": 0
      },
      "text/plain": [
       "interactive(children=(Dropdown(description='Fruit', options=('--choose--', 'apple', 'banana', 'cherry', 'grape…"
      ]
     },
     "metadata": {},
     "output_type": "display_data"
    }
   ],
   "source": [
    "from IPython.display import display, HTML, Image, clear_output\n",
    "from ipywidgets import interact, widgets\n",
    "\n",
    "# FUNCTION WHEN YOU CLICK THE BUTTON\n",
    "def learn_more(button):\n",
    "    url = f\"https://en.wikipedia.org/wiki/{button.Fruit}\" # we get this because we attached it\n",
    "    display(HTML(f\"Learn More at <a target='_blank' href='{url}'>{url}</a>\"))\n",
    "\n",
    "# MAKE A BUTTON\n",
    "learn_more_button = widgets.Button(description='Learn More') \n",
    "# WIRE UP  THE FUNCTION TO THE CLICK EVENT ON THE BUTTON\n",
    "learn_more_button.on_click(learn_more) \n",
    "\n",
    "fruit_pic = \"https://www.healthyeating.org/images/default-source/home-0.0/nutrition-topics-2.0/general-nutrition-wellness/2-2-2-3foodgroups_fruits_detailfeature.jpg\"\n",
    "display(HTML(\"<h1>Pick a Fruit!</h1>\"))\n",
    "# DISPLAY A PIC\n",
    "display(Image(url=fruit_pic, width=200))\n",
    "fruit_list = ['--choose--','apple','banana','cherry','grape','kiwi','orange']\n",
    "@interact(Fruit=fruit_list)\n",
    "def do_fruit(Fruit):\n",
    "    if Fruit != '--choose--':\n",
    "        learn_more_button.Fruit = Fruit # attach data to the button\n",
    "        display(HTML(f\"<h2>You chose: {Fruit}</h2>\"))\n",
    "        display(learn_more_button) # show the button\n",
    "    else:\n",
    "        clear_output()\n",
    "        "
   ]
  },
  {
   "cell_type": "markdown",
   "metadata": {},
   "source": [
    "## Putting It All Together\n",
    "\n",
    "Let's put the entire thing together, steps:\n",
    "\n",
    "\n",
    "    1. readBeerData() - master list\n",
    "    2. Insert placeholders so interact doesn't run:\n",
    "        beers.insert(0,'--choose--')\n",
    "        calories.insert(0, 0)\n",
    "    3. create the my beers button and wire on_click to printBeers()\n",
    "    4. display title \"The beer calorie calculator\" and optional image\n",
    "    5. Dropdown interaction\n",
    "        5.1 use readBeerData() to read in mybeers\n",
    "        5.2 if dropdown is not `--choose--', add a beer\n",
    "            5.3 get calories for selected beer\n",
    "            5.4 append to my beer lists\n",
    "            5.5 save back to file with saveBeerData()\n",
    "            5.6 Print beer saved!\n",
    "    \n",
    "    "
   ]
  },
  {
   "cell_type": "code",
   "execution_count": 16,
   "metadata": {},
   "outputs": [
    {
     "data": {
      "application/vnd.jupyter.widget-view+json": {
       "model_id": "6daa4ddcec7941acb19304333198ae74",
       "version_major": 2,
       "version_minor": 0
      },
      "text/plain": [
       "interactive(children=(Dropdown(description='beer', options=('Abita Amber', 'Abita Golden', 'Abita Jockamo IPA'…"
      ]
     },
     "metadata": {},
     "output_type": "display_data"
    }
   ],
   "source": [
    "from IPython.display import display, HTML, Image, clear_output\n",
    "from ipywidgets import interact, widgets\n",
    "\n",
    "# TODO Write code here\n",
    "beer_list, cal_list = readBeerData()\n",
    "\n",
    "@interact(beer=beer_list)\n",
    "def selectbeer(beer):\n",
    "    index = beer_list.index(beer)\n",
    "    print(f\"{beer} has {cal_list[index]} calories.\")"
   ]
  },
  {
   "cell_type": "code",
   "execution_count": 21,
   "metadata": {},
   "outputs": [
    {
     "data": {
      "application/vnd.jupyter.widget-view+json": {
       "model_id": "58fb24baafbb4ba7be19a0dc0b56718c",
       "version_major": 2,
       "version_minor": 0
      },
      "text/plain": [
       "interactive(children=(Text(value='', description='beer'), Output()), _dom_classes=('widget-interact',))"
      ]
     },
     "metadata": {},
     "output_type": "display_data"
    }
   ],
   "source": [
    "@interact(beer=\"\")\n",
    "def typebeer(beer):\n",
    "    drop = []\n",
    "    for b in beer_list:\n",
    "        if b.find(beer) >=0:\n",
    "            drop.append(b)\n",
    "    dropwidget = widgets.Dropdown(\n",
    "        options=drop,\n",
    "        description='Select Beer:',\n",
    "        disabled=False,\n",
    "        )\n",
    "    display(dropwidget)"
   ]
  },
  {
   "cell_type": "code",
   "execution_count": null,
   "metadata": {},
   "outputs": [],
   "source": []
  }
 ],
 "metadata": {
  "anaconda-cloud": {},
  "kernelspec": {
   "display_name": "Python 3 (ipykernel)",
   "language": "python",
   "name": "python3"
  },
  "language_info": {
   "codemirror_mode": {
    "name": "ipython",
    "version": 3
   },
   "file_extension": ".py",
   "mimetype": "text/x-python",
   "name": "python",
   "nbconvert_exporter": "python",
   "pygments_lexer": "ipython3",
   "version": "3.9.7"
  },
  "toc": {
   "base_numbering": 1,
   "nav_menu": {},
   "number_sections": false,
   "sideBar": false,
   "skip_h1_title": false,
   "title_cell": "Table of Contents",
   "title_sidebar": "Contents",
   "toc_cell": false,
   "toc_position": {},
   "toc_section_display": false,
   "toc_window_display": false
  },
  "varInspector": {
   "cols": {
    "lenName": 16,
    "lenType": 16,
    "lenVar": 40
   },
   "kernels_config": {
    "python": {
     "delete_cmd_postfix": "",
     "delete_cmd_prefix": "del ",
     "library": "var_list.py",
     "varRefreshCmd": "print(var_dic_list())"
    },
    "r": {
     "delete_cmd_postfix": ") ",
     "delete_cmd_prefix": "rm(",
     "library": "var_list.r",
     "varRefreshCmd": "cat(var_dic_list()) "
    }
   },
   "types_to_exclude": [
    "module",
    "function",
    "builtin_function_or_method",
    "instance",
    "_Feature"
   ],
   "window_display": false
  }
 },
 "nbformat": 4,
 "nbformat_minor": 1
}
