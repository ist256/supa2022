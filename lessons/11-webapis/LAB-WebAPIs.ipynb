{
 "cells": [
  {
   "cell_type": "markdown",
   "metadata": {},
   "source": [
    "# Class Coding Lab: Web Services and APIs\n",
    "\n",
    "### Overview\n",
    "\n",
    "The web has long evolved from user-consumption to device consumption. In the early days of the web when you wanted to check the weather, you opened up your browser and visited a website. Nowadays your smart watch / smart phone retrieves the weather for you and displays it on the device. Your device can't predict the weather. It's simply consuming a weather based service. \n",
    "\n",
    "The key to making device consumption work are API's (Application Program Interfaces). Products we use everyday like smartphones, Amazon's Alexa, and gaming consoles all rely on API's. They seem \"smart\" and \"powerful\" but in actuality they're only interfacing with smart and powerful services in the cloud.\n",
    "\n",
    "API consumption is the new reality of programming; it is why we cover it in this course. Once you undersand how to conusme API's you can write a program to do almost anything and harness the power of the internet to make your own programs look \"smart\" and \"powerful.\" \n",
    "\n",
    "This lab will be a walk-through for how to use a Web API. Specifically we will use the Microsoft Azure Text Analytics API to features like sentiment and entity recognition to our programs.\n"
   ]
  },
  {
   "cell_type": "code",
   "execution_count": null,
   "metadata": {
    "code_cell_type": "run_code"
   },
   "outputs": [],
   "source": [
    "# Run this to make sure you have the pre-requisites!\n",
    "!pip install -q requests"
   ]
  },
  {
   "cell_type": "code",
   "execution_count": 5,
   "metadata": {
    "code_cell_type": "run_code"
   },
   "outputs": [],
   "source": [
    "# start by importing the modules we will need\n",
    "import requests\n",
    "import json "
   ]
  },
  {
   "cell_type": "markdown",
   "metadata": {},
   "source": [
    "## Part 1: Configure the Azure Text Analytics API\n",
    "\n",
    "### First, sign up for Azure for Students\n",
    "\n",
    "First you will need to sign up for Microsoft Azure for Students. This is free for all Syracuse University Students. Azure is a cloud provider from Microsoft. \n",
    "\n",
    "1. Go to https://azure.microsoft.com/en-us/free/students/ \n",
    "2. Click Activate Now\n",
    "2. Login with your SU email `netid@syr.edu`\n",
    "3. Use your NetID Password.\n",
    "4. When you log-in it should take you to the Azure Portal https://portal.azure.com\n",
    "\n",
    "### Next Add Text Analytics\n",
    "\n",
    "From inside the Azure portal:\n",
    "\n",
    "1. Click **Create a Resource**\n",
    "2. Choose **Text Analytics** \n",
    "3. Select **Create**\n",
    "4. Fill out the form:\n",
    "   - Subscription: `Azure for Students`\n",
    "   - Resource Group: `ist256-yournetid` (for example: **ist256-mafudge**)\n",
    "   - Location: `Central US`\n",
    "   - Name: `ist256-yournetid-text-analytics` (eg. **ist256-mafudge-text-analytics**)   \n",
    "   - Pricing Tier: `F0` (Important: Select the free tier!)\n",
    "5. Click **create**.\n",
    "6. When the deployment is done, click **Go To Resource**."
   ]
  },
  {
   "cell_type": "markdown",
   "metadata": {},
   "source": [
    "### You are now on the quickstart screen \n",
    "\n",
    "Click on **Keys And Endpoint**\n",
    "\n",
    "Record your Key and Endpoint here:\n",
    "\n",
    "Key1:   \n",
    "\n",
    "Endpoint:   \n",
    "\n"
   ]
  },
  {
   "cell_type": "code",
   "execution_count": 2,
   "metadata": {
    "code_cell_type": "run_code"
   },
   "outputs": [],
   "source": [
    "# record these values in code, too\n",
    "endpoint = \"https://ist256-mafudge-cogsvcs.cognitiveservices.azure.com/\"\n",
    "key = \"a139143cb89746bfbe6e52c8b1862f80\""
   ]
  },
  {
   "cell_type": "markdown",
   "metadata": {},
   "source": [
    "### Testing Out your API\n",
    "\n",
    "The documentation for the API can be found here: https://docs.microsoft.com/en-us/azure/cognitive-services/text-analytics/quickstarts/client-libraries-rest-api?tabs=version-3-1&pivots=rest-api\n",
    "\n",
    "While there is a `Python` module, we are going to use `requests` and the `REST API`. Why? Practice learning how to call Web API's of course!\n",
    "\n",
    "Let's give it a try by using named entity recognition (NER). This attempts to extract meaning from text and is quite useful in applications which require natual language understanding.  \n",
    "\n",
    "For all requests, you provide:\n",
    " - Your subscription key in the header, under the dictionary key `Ocp-Apim-Subscription-Key`\n",
    " - A list of documents you wish the API to act upon. This is delivered via HTTP POST and in JSON format.\n",
    " \n",
    " All of this is easy to do in Python, of course!\n",
    " \n",
    " For example, let's extract entities from the following phrases:\n",
    "\n",
    "\n",
    "    1. \"I would not pay $5 to see that Star Wars movie next week.\"\n",
    "    2. \"Syracuse and Rochester are nicer cities than Buffalo.\"\n",
    "    \n",
    "first we create the POST payload, a dictionary. There is a `documents` key and a list of values which have keys `id` and `text` so we can order the documents."
   ]
  },
  {
   "cell_type": "code",
   "execution_count": 3,
   "metadata": {
    "code_cell_type": "run_code"
   },
   "outputs": [],
   "source": [
    "payload = { \"documents\": [\n",
    "        {\"id\": \"1\", \"text\": \"I would not pay $5 to see that Star Wars movie next week.\" },\n",
    "        {\"id\": \"2\", \"text\": \"Syracuse and Rochester are nicer cities than Buffalo.\" }\n",
    "    ]\n",
    "}"
   ]
  },
  {
   "cell_type": "markdown",
   "metadata": {},
   "source": [
    "Next we setup the headers and the rest is like calling any other API..."
   ]
  },
  {
   "cell_type": "code",
   "execution_count": 6,
   "metadata": {
    "code_cell_type": "run_code"
   },
   "outputs": [
    {
     "data": {
      "text/plain": [
       "{'documents': [{'id': '1',\n",
       "   'entities': [{'text': '$5',\n",
       "     'category': 'Quantity',\n",
       "     'subcategory': 'Currency',\n",
       "     'offset': 16,\n",
       "     'length': 2,\n",
       "     'confidenceScore': 0.8},\n",
       "    {'text': 'next week',\n",
       "     'category': 'DateTime',\n",
       "     'subcategory': 'DateRange',\n",
       "     'offset': 47,\n",
       "     'length': 9,\n",
       "     'confidenceScore': 0.8}],\n",
       "   'warnings': []},\n",
       "  {'id': '2',\n",
       "   'entities': [{'text': 'Syracuse',\n",
       "     'category': 'Location',\n",
       "     'subcategory': 'GPE',\n",
       "     'offset': 0,\n",
       "     'length': 8,\n",
       "     'confidenceScore': 1.0},\n",
       "    {'text': 'Rochester',\n",
       "     'category': 'Location',\n",
       "     'subcategory': 'GPE',\n",
       "     'offset': 13,\n",
       "     'length': 9,\n",
       "     'confidenceScore': 0.99},\n",
       "    {'text': 'Buffalo',\n",
       "     'category': 'Location',\n",
       "     'subcategory': 'GPE',\n",
       "     'offset': 45,\n",
       "     'length': 7,\n",
       "     'confidenceScore': 1.0}],\n",
       "   'warnings': []}],\n",
       " 'errors': [],\n",
       " 'modelVersion': '2021-06-01'}"
      ]
     },
     "execution_count": 6,
     "metadata": {},
     "output_type": "execute_result"
    }
   ],
   "source": [
    "url = f'{endpoint}text/analytics/v3.0/entities/recognition/general'\n",
    "headers = { 'Ocp-Apim-Subscription-Key' : key}\n",
    "\n",
    "response = requests.post(url,headers=headers, json=payload)\n",
    "response.raise_for_status()\n",
    "entities = response.json()\n",
    "entities"
   ]
  },
  {
   "cell_type": "markdown",
   "metadata": {},
   "source": [
    "### The response \n",
    "\n",
    "Notice the service does a nice job recogizing `$5` as a quantity and `next week` as a date range.\n",
    "\n",
    "It also figures out that Syracuse, Rochester and Buffalo are all locations.  **VERY COOL**\n",
    "\n",
    "Name Entity Recognition has applications in identifying personally identifiable information in text such as Names, emails, phone numbers, credit cards, social-security numbers, etc. \n",
    "\n",
    "It can also be used to identify places, quantities, time, and is useful for providing context to news headlines.\n",
    "\n",
    "For each recoginzed entity, you are provided with a `score` (confidence score between 0-1), a type, and sub-type as appropriate. \n",
    "\n",
    "### 1.1 You Code\n",
    "\n",
    "Re-write the example above to perform named entity extraction on the following text:\n",
    "\n",
    "`According to yesterday's news, four out of five New York City coders prefer Google to Microsoft.`"
   ]
  },
  {
   "cell_type": "code",
   "execution_count": 8,
   "metadata": {
    "code_cell_type": "write_code",
    "label": "1.1",
    "solution": [
     "payload = { \"documents\": [{\"id\": \"1\", \"text\": \"According to yesterday's news, four out of five New York City coders prefer Google to Microsoft.\" }]}\n",
     "url = f'{endpoint}text/analytics/v3.0/entities/recognition/general'\n",
     "headers = { 'Ocp-Apim-Subscription-Key' : key}\n",
     "response = requests.post(url,headers=headers, json=payload)\n",
     "response.raise_for_status()\n",
     "entities = response.json()\n",
     "entities\n"
    ]
   },
   "outputs": [
    {
     "data": {
      "text/plain": [
       "{'documents': [{'id': '1',\n",
       "   'entities': [{'text': 'yesterday',\n",
       "     'category': 'DateTime',\n",
       "     'subcategory': 'Date',\n",
       "     'offset': 13,\n",
       "     'length': 9,\n",
       "     'confidenceScore': 0.8},\n",
       "    {'text': 'four out of five',\n",
       "     'category': 'Quantity',\n",
       "     'subcategory': 'Number',\n",
       "     'offset': 31,\n",
       "     'length': 16,\n",
       "     'confidenceScore': 0.8},\n",
       "    {'text': 'New York City',\n",
       "     'category': 'Location',\n",
       "     'subcategory': 'GPE',\n",
       "     'offset': 48,\n",
       "     'length': 13,\n",
       "     'confidenceScore': 0.92},\n",
       "    {'text': 'coders',\n",
       "     'category': 'PersonType',\n",
       "     'offset': 62,\n",
       "     'length': 6,\n",
       "     'confidenceScore': 0.84},\n",
       "    {'text': 'Google',\n",
       "     'category': 'Organization',\n",
       "     'offset': 76,\n",
       "     'length': 6,\n",
       "     'confidenceScore': 0.99},\n",
       "    {'text': 'Microsoft',\n",
       "     'category': 'Organization',\n",
       "     'offset': 86,\n",
       "     'length': 9,\n",
       "     'confidenceScore': 0.99}],\n",
       "   'warnings': []}],\n",
       " 'errors': [],\n",
       " 'modelVersion': '2021-06-01'}"
      ]
     },
     "execution_count": 8,
     "metadata": {},
     "output_type": "execute_result"
    }
   ],
   "source": [
    "# TODO Write code here\n",
    "payload = { \"documents\": [\n",
    "        {\"id\": \"1\", \"text\": \"According to yesterday's news, four out of five New York City coders prefer Google to Microsoft.\" },\n",
    "    ]\n",
    "}\n",
    "\n",
    "url = f'{endpoint}text/analytics/v3.0/entities/recognition/general'\n",
    "headers = { 'Ocp-Apim-Subscription-Key' : key}\n",
    "\n",
    "response = requests.post(url,headers=headers, json=payload)\n",
    "response.raise_for_status()\n",
    "entities = response.json()\n",
    "entities"
   ]
  },
  {
   "cell_type": "markdown",
   "metadata": {},
   "source": [
    "### Curious as to what you can detect?\n",
    "\n",
    "Check out: https://docs.microsoft.com/en-us/azure/cognitive-services/text-analytics/how-tos/text-analytics-how-to-entity-linking#supported-types-for-named-entity-recognition-v2 \n",
    "\n",
    "Let's use this service write our own user-defined function to extract email addresses from any text. \n",
    "\n",
    "The API call is the same, the difference is what we do with the results. We loop through the entities and if the entity `category` is of type `Email` we print it out."
   ]
  },
  {
   "cell_type": "code",
   "execution_count": 9,
   "metadata": {
    "code_cell_type": "run_code"
   },
   "outputs": [
    {
     "name": "stdout",
     "output_type": "stream",
     "text": [
      "mafudge@syr.edu\n",
      "mafudge@gmail.com\n",
      "snookybear4182@aol.com\n"
     ]
    }
   ],
   "source": [
    "text = \"As of this year, my primary email address is mafudge@syr.edu but I also use mafudge@gmail.com and snookybear4182@aol.com from time to time.\"\n",
    "\n",
    "url = f'{endpoint}text/analytics/v3.0/entities/recognition/general'\n",
    "header = { 'Ocp-Apim-Subscription-Key' : key}\n",
    "payload = {\"documents\": [\n",
    "            {\"id\": \"1\", \"text\": text }\n",
    "        ]\n",
    "    }\n",
    "response = requests.post(url,headers=header, json=payload)\n",
    "response.raise_for_status()\n",
    "entities = response.json()\n",
    "for entity in entities['documents'][0]['entities']:\n",
    "    if entity['category'] == 'Email':\n",
    "        print( entity['text'])\n",
    "    "
   ]
  },
  {
   "cell_type": "markdown",
   "metadata": {},
   "source": [
    "### 1.2 You Code: Debug\n",
    "\n",
    "Get this code working!\n",
    "\n",
    "The following code will extract all of the entities with category `Location` from the input text.\n",
    "\n",
    "If you are looking for some sample text, try: `London is better than Paris.`"
   ]
  },
  {
   "cell_type": "code",
   "execution_count": 18,
   "metadata": {
    "code_cell_type": "debug_code",
    "label": "1.",
    "solution": [
     "text = input(\"Enter some text with locations in it. \")\n",
     "payload = payload = { \"documents\": [ {\"id\": \"1\", \"text\": text } ] }\n",
     "url = f'{endpoint}text/analytics/v3.0/entities/recognition/general'\n",
     "header = { 'Ocp-Apim-Subscription-Key' : key}\n",
     "response = requests.post(url,headers=header, json=payload)\n",
     "response.raise_for_status()\n",
     "entities = response.json()\n",
     "for entity in entities['documents'][0]['entities']:\n",
     "    if entity['category'] == 'Location':\n",
     "        print( entity['text'])\n"
    ]
   },
   "outputs": [
    {
     "name": "stdout",
     "output_type": "stream",
     "text": [
      "Enter some text with locations in it. Syracuse this is fun\n",
      "Syracuse\n"
     ]
    }
   ],
   "source": [
    "# TODO Fix this code\n",
    "text = input(\"Enter some text with locations in it. \")\n",
    "payload = payload = { \"documents\": [ {\"id\": \"1\", \"text\": text } ] }\n",
    "\n",
    "url = f'{endpoint}text/analytics/v3.0/entities/recognition/general'\n",
    "header = { 'Ocp-Apim-Subscription-Key' : key}\n",
    "response = requests.post(url,headers=header, json=payload)\n",
    "response.raise_for_status()\n",
    "entities = response.json()\n",
    "\n",
    "for entity in entities['documents'][0]['entities']:\n",
    "    if entity['category'] == 'Location':\n",
    "        print( entity['text'])\n"
   ]
  },
  {
   "cell_type": "markdown",
   "metadata": {},
   "source": [
    "## Now that you know how to use it, what can you do with it?\n",
    "\n",
    "Text Analytics technologies such as named entity recoginition, key phrase extraction and sentiment analysis are best used when combined with another service. For example:\n",
    "\n",
    "1. You can take a list of customer reviews from a diner restaurant and run sentiment analysis to determine how customers feel about it. Do they like this place or not?\n",
    "2. Use named entity recognition to determine where those customers are from or when they visited.\n",
    "3. Use key phrase extraction to determine what they are talking about? Pancakes, breakfast sandwiches, eggs, etc...\n",
    "\n",
    "### 1.3 You Code\n",
    "\n",
    "Write a program to **extract key phrases** from the three reviews provided below. Make 1 api call to the url endpoint that has been provided for you. It's up to you to print out the key phrases!\n"
   ]
  },
  {
   "cell_type": "code",
   "execution_count": 21,
   "metadata": {
    "code_cell_type": "debug_code",
    "label": "1.3",
    "solution": [
     "review1 = \"I don't think I will ever order the eggs again. Not very good.\"\n",
     "review2 = \"Went there last Wednesday. It was croweded and the pancakes and eggs were spot on! I enjoyed my meal.\"\n",
     "review3 = \"Not sure who is running the place but the eggs benedict were not that great. On the other hand I was happy with my toast.\"\n",
     "url = f'{endpoint}text/analytics/v3.0/keyphrases'\n",
     "header = { 'Ocp-Apim-Subscription-Key' : key}\n",
     "payload = {\"documents\": [\n",
     "            {\"id\": \"1\", \"text\": review1 },\n",
     "            {\"id\": \"2\", \"text\": review2 },\n",
     "            {\"id\": \"3\", \"text\": review3 }\n",
     "        ]\n",
     "    }\n",
     "# TODO Write your code here to call the API, deserilaize the json, and display the output\n",
     "response = requests.post(url,headers=header, json=payload)\n",
     "response.raise_for_status()\n",
     "phrases = response.json()\n",
     "phrases\n"
    ]
   },
   "outputs": [
    {
     "data": {
      "text/plain": [
       "{'documents': [{'id': '1', 'keyPhrases': ['eggs'], 'warnings': []},\n",
       "  {'id': '2', 'keyPhrases': ['pancakes', 'eggs', 'meal'], 'warnings': []},\n",
       "  {'id': '3',\n",
       "   'keyPhrases': ['other hand', 'place', 'eggs', 'toast'],\n",
       "   'warnings': []}],\n",
       " 'errors': [],\n",
       " 'modelVersion': '2022-07-01'}"
      ]
     },
     "execution_count": 21,
     "metadata": {},
     "output_type": "execute_result"
    }
   ],
   "source": [
    "review1 = \"I don't think I will ever order the eggs again. Not very good.\"\n",
    "review2 = \"Went there last Wednesday. It was croweded and the pancakes and eggs were spot on! I enjoyed my meal.\"\n",
    "review3 = \"Not sure who is running the place but the eggs benedict were not that great. On the other hand I was happy with my toast.\"\n",
    "url = f'{endpoint}text/analytics/v3.0/keyphrases'\n",
    "header = { 'Ocp-Apim-Subscription-Key' : key}\n",
    "payload = {\"documents\": [\n",
    "            {\"id\": \"1\", \"text\": review1 },\n",
    "            {\"id\": \"2\", \"text\": review2 },\n",
    "            {\"id\": \"3\", \"text\": review3 }\n",
    "        ]\n",
    "    }\n",
    "# TODO Write your code here to call the API, deserilaize the json, \n",
    "# and display the output\n",
    "response = requests.post(url,headers=header, json=payload)\n",
    "response.raise_for_status()\n",
    "phrases = response.json()\n",
    "phrases"
   ]
  },
  {
   "cell_type": "markdown",
   "metadata": {},
   "source": [
    "## Key Phrases is to Sentiment as Peanut Butter is to Jelly!\n",
    "\n",
    "From our key phrases analysis, it looks like customers are talking about `eggs` but are they speaking positively or negatively about their egg experiences? This is why sentiment analysis accompanies key phrase analysis. Key phrase identifies what they are talking about, and sentiment provides the context around it.\n",
    "\n",
    "### 1.4 You Code\n",
    "\n",
    "Perform sentiment analysis over the reviews to determine who likes the eggs and who does not. This time you must build the `payload` variable with the `documents` key yourself.\n"
   ]
  },
  {
   "cell_type": "code",
   "execution_count": 39,
   "metadata": {
    "code_cell_type": "debug_code",
    "label": "1.4",
    "solution": [
     "review1 = \"I don't think I will ever order the eggs again. Not very good.\"\n",
     "review2 = \"Went there last Wednesday. It was croweded and the pancakes and eggs were spot on! I enjoyed my meal.\"\n",
     "review3 = \"Not sure who is running the place but the eggs benedict were not that great. On the other hand I was happy with my toast.\"\n",
     "url = f'{endpoint}text/analytics/v3.0/sentiment'\n",
     "header = { 'Ocp-Apim-Subscription-Key' : key}\n",
     "# TODO: Write code here to build the documents structure then perform the sentiment analysis via the api\n",
     "payload = {\"documents\": [\n",
     "            {\"id\": \"1\", \"text\": review1 },\n",
     "            {\"id\": \"2\", \"text\": review2 },\n",
     "            {\"id\": \"3\", \"text\": review3 }\n",
     "        ]\n",
     "    }\n",
     "response = requests.post(url,headers=header, json=payload)\n",
     "response.raise_for_status()\n",
     "sentiment = response.json()\n",
     "sentiment\n"
    ]
   },
   "outputs": [],
   "source": [
    "review1 = \"I don't think I will ever order the eggs again. Not very good.\"\n",
    "review2 = \"Went there last Wednesday. It was croweded and the pancakes and eggs were spot on! I enjoyed my meal.\"\n",
    "review3 = \"Not sure who is running the place but the eggs benedict were not that great. On the other hand I was happy with my toast.\"\n",
    "url = f'{endpoint}text/analytics/v3.0/sentiment'\n",
    "header = { 'Ocp-Apim-Subscription-Key' : key}\n",
    "\n",
    "# TODO: Write code here to build the documents structure then perform the sentiment analysis via the api\n"
   ]
  },
  {
   "cell_type": "markdown",
   "metadata": {},
   "source": [
    "## Putting it all together.\n",
    "\n",
    "Let's put togther a feature which might be useful for automating a social media account or chat-bot. If you input some text that says something positive about any location, the program should respond: \n",
    "\n",
    "    How kind of you to say good things about {location}\n",
    "    \n",
    "For example, if I input: `I had the best barbeque in Memphis this summer.`\n",
    "\n",
    "It will respond: `How kind of you to say good things about Memphis.`\n",
    "\n",
    "\n",
    "ALGORITHM\n",
    "\n",
    "\n",
    "    input text\n",
    "    call sentiment api for text\n",
    "    call entity recognition api for text\n",
    "    determine if sentiment is positive\n",
    "    determine if entity has a location\n",
    "    if positive sentiment and a location, then\n",
    "        print response"
   ]
  },
  {
   "cell_type": "code",
   "execution_count": 40,
   "metadata": {
    "code_cell_type": "write_code",
    "label": "1.5",
    "solution": [
     "text = input(\"Say Something: \")\n",
     "urle = f'{endpoint}text/analytics/v3.0/entities/recognition/general'\n",
     "urls = f'{endpoint}text/analytics/v3.0/sentiment'\n",
     "header = { 'Ocp-Apim-Subscription-Key' : key}\n",
     "payload = {\"documents\": [{\"id\": \"1\", \"text\": text}]}\n",
     "response = requests.post(urls,headers=header, json=payload)\n",
     "response.raise_for_status()\n",
     "sentiment = response.json()\n",
     "response = requests.post(urle,headers=header, json=payload)\n",
     "response.raise_for_status()\n",
     "entities = response.json()\n",
     "score = sentiment['documents'][0]['sentiment']\n",
     "locations = [e['text'] for e in entities['documents'][0]['entities'] if e['category']=='Location' ]\n",
     "if score=='positive' and len(locations)>0:\n",
     "    print(f\"How kind of you to say good things about {locations[0]}.\")\n"
    ]
   },
   "outputs": [],
   "source": [
    "# TODO Write code"
   ]
  },
  {
   "cell_type": "markdown",
   "metadata": {},
   "source": [
    "# Metacognition\n"
   ]
  },
  {
   "cell_type": "markdown",
   "metadata": {
    "label": "comfort_cell"
   },
   "source": [
    "\n",
    "### Rate your comfort level with this week's material so far.   \n",
    "\n",
    "**1** ==> I don't understand this at all yet and need extra help. If you choose this please try to articulate that which you do not understand to the best of your ability in the questions and comments section below.  \n",
    "**2** ==> I can do this with help or guidance from other people or resources. If you choose this level, please indicate HOW this person helped you in the questions and comments section below.   \n",
    "**3** ==> I can do this on my own without any help.   \n",
    "**4** ==> I can do this on my own and can explain/teach how to do it to others.\n",
    "\n",
    "`--== Double-Click Here then Enter a Number 1 through 4 Below This Line ==--`  \n"
   ]
  },
  {
   "cell_type": "markdown",
   "metadata": {
    "label": "questions_cell"
   },
   "source": [
    "###  Questions And Comments \n",
    "\n",
    "Record any questions or comments you have about this lab that you would like to discuss in your recitation. It is expected you will have questions if you did not complete the code sections correctly.  Learning how to articulate what you do not understand is an important skill of critical thinking. Write them down here so that you remember to ask them in your recitation. We expect you will take responsilbity for your learning and ask questions in class.\n",
    "\n",
    "`--== Double-click Here then Enter Your Questions Below this Line ==--`    \n"
   ]
  },
  {
   "cell_type": "code",
   "execution_count": null,
   "metadata": {},
   "outputs": [],
   "source": []
  }
 ],
 "metadata": {
  "anaconda-cloud": {},
  "kernelspec": {
   "display_name": "Python 3 (ipykernel)",
   "language": "python",
   "name": "python3"
  },
  "language_info": {
   "codemirror_mode": {
    "name": "ipython",
    "version": 3
   },
   "file_extension": ".py",
   "mimetype": "text/x-python",
   "name": "python",
   "nbconvert_exporter": "python",
   "pygments_lexer": "ipython3",
   "version": "3.9.7"
  },
  "toc": {
   "base_numbering": 1,
   "nav_menu": {},
   "number_sections": false,
   "sideBar": false,
   "skip_h1_title": false,
   "title_cell": "Table of Contents",
   "title_sidebar": "Contents",
   "toc_cell": false,
   "toc_position": {},
   "toc_section_display": false,
   "toc_window_display": false
  },
  "varInspector": {
   "cols": {
    "lenName": 16,
    "lenType": 16,
    "lenVar": 40
   },
   "kernels_config": {
    "python": {
     "delete_cmd_postfix": "",
     "delete_cmd_prefix": "del ",
     "library": "var_list.py",
     "varRefreshCmd": "print(var_dic_list())"
    },
    "r": {
     "delete_cmd_postfix": ") ",
     "delete_cmd_prefix": "rm(",
     "library": "var_list.r",
     "varRefreshCmd": "cat(var_dic_list()) "
    }
   },
   "types_to_exclude": [
    "module",
    "function",
    "builtin_function_or_method",
    "instance",
    "_Feature"
   ],
   "window_display": false
  }
 },
 "nbformat": 4,
 "nbformat_minor": 4
}
