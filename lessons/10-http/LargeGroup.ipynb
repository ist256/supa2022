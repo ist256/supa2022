{
 "cells": [
  {
   "cell_type": "markdown",
   "metadata": {},
   "source": [
    "# Code Samples From Large Group\n"
   ]
  },
  {
   "cell_type": "code",
   "execution_count": 2,
   "metadata": {},
   "outputs": [],
   "source": [
    "import requests"
   ]
  },
  {
   "cell_type": "code",
   "execution_count": null,
   "metadata": {},
   "outputs": [],
   "source": [
    "resp = requests.get(\"https://www.syr.edu\")\n"
   ]
  },
  {
   "cell_type": "code",
   "execution_count": null,
   "metadata": {},
   "outputs": [],
   "source": [
    "resp.ok"
   ]
  },
  {
   "cell_type": "code",
   "execution_count": null,
   "metadata": {},
   "outputs": [],
   "source": [
    "resp.status_code"
   ]
  },
  {
   "cell_type": "code",
   "execution_count": null,
   "metadata": {},
   "outputs": [],
   "source": [
    "resp.text\n"
   ]
  },
  {
   "cell_type": "code",
   "execution_count": null,
   "metadata": {},
   "outputs": [],
   "source": [
    "resp = requests.get(\"https://api.ist256.com/playground/hello1\")\n"
   ]
  },
  {
   "cell_type": "code",
   "execution_count": null,
   "metadata": {},
   "outputs": [],
   "source": [
    "resp.ok"
   ]
  },
  {
   "cell_type": "code",
   "execution_count": null,
   "metadata": {},
   "outputs": [],
   "source": [
    "data = resp.json()"
   ]
  },
  {
   "cell_type": "code",
   "execution_count": null,
   "metadata": {},
   "outputs": [],
   "source": [
    "type(data)"
   ]
  },
  {
   "cell_type": "code",
   "execution_count": null,
   "metadata": {},
   "outputs": [],
   "source": [
    "data"
   ]
  },
  {
   "cell_type": "code",
   "execution_count": null,
   "metadata": {},
   "outputs": [],
   "source": [
    "resp.text"
   ]
  },
  {
   "cell_type": "code",
   "execution_count": null,
   "metadata": {},
   "outputs": [],
   "source": [
    "resp = requests.get(\"https://api.ist256.com/playground/hello99\")"
   ]
  },
  {
   "cell_type": "code",
   "execution_count": null,
   "metadata": {},
   "outputs": [],
   "source": [
    "resp.ok"
   ]
  },
  {
   "cell_type": "code",
   "execution_count": null,
   "metadata": {},
   "outputs": [],
   "source": [
    "resp.text"
   ]
  },
  {
   "cell_type": "code",
   "execution_count": null,
   "metadata": {},
   "outputs": [],
   "source": [
    "resp.raise_for_status()"
   ]
  },
  {
   "cell_type": "code",
   "execution_count": null,
   "metadata": {},
   "outputs": [],
   "source": [
    "geocodeurl=\"https://nominatim.openstreetmap.org/search\"\n",
    "location=\"Syracuse University\"\n",
    "# this is a dictionary of url parmas\n",
    "p = { 'q' : location, 'format' : 'json' } \n",
    "# use those params here to build query string\n",
    "response = requests.get(geocodeurl, params=p) \n",
    "response.raise_for_status()\n",
    "data = response.json()"
   ]
  },
  {
   "cell_type": "code",
   "execution_count": null,
   "metadata": {},
   "outputs": [],
   "source": [
    "data[0]['lat'], data[0]['lon']"
   ]
  },
  {
   "cell_type": "code",
   "execution_count": 11,
   "metadata": {},
   "outputs": [
    {
     "name": "stdout",
     "output_type": "stream",
     "text": [
      "I cannot locate Syracuse Universitee\n"
     ]
    }
   ],
   "source": [
    "def geocode(location):\n",
    "    geocodeurl=\"https://nominatim.openstreetmap.org/search\"\n",
    "    # this is a dictionary of url parmas\n",
    "    p = { 'q' : location, 'format' : 'json' } \n",
    "    # use those params here to build query string\n",
    "    response = requests.get(geocodeurl, params=p) \n",
    "    response.raise_for_status()\n",
    "    data = response.json()\n",
    "    return data[0]['lat'], data[0]['lon']\n",
    "\n",
    "try:\n",
    "    location =\"Syracuse Universitee\" \n",
    "    geocode(location)\n",
    "except IndexError:\n",
    "    print(f\"I cannot locate {location}\")"
   ]
  },
  {
   "cell_type": "code",
   "execution_count": 35,
   "metadata": {},
   "outputs": [
    {
     "data": {
      "text/plain": [
       "{'dt': 1657811085,\n",
       " 'sunrise': 1657801444,\n",
       " 'sunset': 1657857892,\n",
       " 'temp': 58.48,\n",
       " 'feels_like': 57.65,\n",
       " 'pressure': 1019,\n",
       " 'humidity': 77,\n",
       " 'dew_point': 51.3,\n",
       " 'uvi': 1.16,\n",
       " 'clouds': 0,\n",
       " 'visibility': 10000,\n",
       " 'wind_speed': 3.44,\n",
       " 'wind_deg': 50,\n",
       " 'weather': [{'id': 800,\n",
       "   'main': 'Clear',\n",
       "   'description': 'clear sky',\n",
       "   'icon': '01d'}]}"
      ]
     },
     "execution_count": 35,
     "metadata": {},
     "output_type": "execute_result"
    }
   ],
   "source": [
    "def getcurrentweather(lat,lon):\n",
    "    weatherapikey=\"f8dc07f223611eefcb8dc902b44a184a\"\n",
    "    url = \"https://api.openweathermap.org/data/2.5/onecall\"\n",
    "    p = { 'lat' : lat, \n",
    "         'lon' : lon, \n",
    "         'appid' : weatherapikey, \n",
    "         'units' : 'imperial' }\n",
    "    response = requests.get(url, params=p)\n",
    "    response.raise_for_status()\n",
    "    data = response.json()\n",
    "    return data['current']\n",
    "    \n",
    "location=\"Everett, WA\"\n",
    "lat,lon = geocode(location)\n",
    "getcurrentweather(lat,lon)"
   ]
  },
  {
   "cell_type": "code",
   "execution_count": 42,
   "metadata": {},
   "outputs": [
    {
     "data": {
      "text/html": [
       "<h1>Weather O'Matic</h1>"
      ],
      "text/plain": [
       "<IPython.core.display.HTML object>"
      ]
     },
     "metadata": {},
     "output_type": "display_data"
    },
    {
     "data": {
      "application/vnd.jupyter.widget-view+json": {
       "model_id": "aaf51f12c48344af9a78faed3354422a",
       "version_major": 2,
       "version_minor": 0
      },
      "text/plain": [
       "interactive(children=(Text(value='', description='location'), Button(description='Run Interact', style=ButtonS…"
      ]
     },
     "metadata": {},
     "output_type": "display_data"
    }
   ],
   "source": [
    "from IPython.display import display, Image, HTML\n",
    "from ipywidgets import interact_manual \n",
    "\n",
    "display(HTML(\"<h1>Weather O'Matic</h1>\"))\n",
    "@interact_manual(location=\"\")\n",
    "def onclick(location):\n",
    "    try:\n",
    "        lat,lon = geocode(location)\n",
    "        weather = getcurrentweather(lat,lon)\n",
    "        display(HTML(f\"<h2>Conditions at {location}</h2>\"))\n",
    "        display(HTML(f\"{weather['weather'][0]['description']} {weather['temp']} Deg F\"))\n",
    "        icon = weather['weather'][0]['icon']\n",
    "        weathericon = f\"http://openweathermap.org/img/wn/{icon}@2x.png\"\n",
    "        display(Image(url=weathericon))\n",
    "\n",
    "    except IndexError:\n",
    "        print(f\"I cannot get the weather at {location}\")\n",
    "\n"
   ]
  },
  {
   "cell_type": "code",
   "execution_count": 33,
   "metadata": {},
   "outputs": [],
   "source": [
    "# Input Location\n",
    "\n",
    "# Output:\n",
    "# Weather Description (Clear Sky)\n",
    "# Weather Icon\n",
    "# Temperature in F"
   ]
  },
  {
   "cell_type": "code",
   "execution_count": 43,
   "metadata": {},
   "outputs": [
    {
     "name": "stdout",
     "output_type": "stream",
     "text": [
      "I cannot locate Syracuse Universitee\n"
     ]
    },
    {
     "data": {
      "text/html": [
       "<h1>Weather O'Matic</h1>"
      ],
      "text/plain": [
       "<IPython.core.display.HTML object>"
      ]
     },
     "metadata": {},
     "output_type": "display_data"
    },
    {
     "data": {
      "application/vnd.jupyter.widget-view+json": {
       "model_id": "7ec9c499e90249cb9b701e575621e4a0",
       "version_major": 2,
       "version_minor": 0
      },
      "text/plain": [
       "interactive(children=(Text(value='', description='location'), Button(description='Run Interact', style=ButtonS…"
      ]
     },
     "metadata": {},
     "output_type": "display_data"
    }
   ],
   "source": [
    "from IPython.display import display, Image, HTML\n",
    "from ipywidgets import interact_manual \n",
    "import requests \n",
    "\n",
    "def geocode(location):\n",
    "    geocodeurl=\"https://nominatim.openstreetmap.org/search\"\n",
    "    # this is a dictionary of url parmas\n",
    "    p = { 'q' : location, 'format' : 'json' } \n",
    "    # use those params here to build query string\n",
    "    response = requests.get(geocodeurl, params=p) \n",
    "    response.raise_for_status()\n",
    "    data = response.json()\n",
    "    return data[0]['lat'], data[0]['lon']\n",
    "\n",
    "try:\n",
    "    location =\"Syracuse Universitee\" \n",
    "    geocode(location)\n",
    "except IndexError:\n",
    "    print(f\"I cannot locate {location}\")\n",
    "    \n",
    "    \n",
    "def getcurrentweather(lat,lon):\n",
    "    weatherapikey=\"f8dc07f223611eefcb8dc902b44a184a\"\n",
    "    url = \"https://api.openweathermap.org/data/2.5/onecall\"\n",
    "    p = { 'lat' : lat, \n",
    "         'lon' : lon, \n",
    "         'appid' : weatherapikey, \n",
    "         'units' : 'imperial' }\n",
    "    response = requests.get(url, params=p)\n",
    "    response.raise_for_status()\n",
    "    data = response.json()\n",
    "    return data['current']\n",
    "    \n",
    "location=\"Everett, WA\"\n",
    "lat,lon = geocode(location)\n",
    "getcurrentweather(lat,lon)\n",
    "\n",
    "\n",
    "\n",
    "display(HTML(\"<h1>Weather O'Matic</h1>\"))\n",
    "@interact_manual(location=\"\")\n",
    "def onclick(location):\n",
    "    try:\n",
    "        lat,lon = geocode(location)\n",
    "        weather = getcurrentweather(lat,lon)\n",
    "        display(HTML(f\"<h2>Conditions at {location}</h2>\"))\n",
    "        display(HTML(f\"{weather['weather'][0]['description']} {weather['temp']} Deg F\"))\n",
    "        icon = weather['weather'][0]['icon']\n",
    "        weathericon = f\"http://openweathermap.org/img/wn/{icon}@2x.png\"\n",
    "        display(Image(url=weathericon))\n",
    "\n",
    "    except IndexError:\n",
    "        print(f\"I cannot get the weather at {location}\")"
   ]
  },
  {
   "cell_type": "code",
   "execution_count": null,
   "metadata": {},
   "outputs": [],
   "source": []
  }
 ],
 "metadata": {
  "kernelspec": {
   "display_name": "Python 3 (ipykernel)",
   "language": "python",
   "name": "python3"
  },
  "language_info": {
   "codemirror_mode": {
    "name": "ipython",
    "version": 3
   },
   "file_extension": ".py",
   "mimetype": "text/x-python",
   "name": "python",
   "nbconvert_exporter": "python",
   "pygments_lexer": "ipython3",
   "version": "3.9.7"
  },
  "varInspector": {
   "cols": {
    "lenName": 16,
    "lenType": 16,
    "lenVar": 40
   },
   "kernels_config": {
    "python": {
     "delete_cmd_postfix": "",
     "delete_cmd_prefix": "del ",
     "library": "var_list.py",
     "varRefreshCmd": "print(var_dic_list())"
    },
    "r": {
     "delete_cmd_postfix": ") ",
     "delete_cmd_prefix": "rm(",
     "library": "var_list.r",
     "varRefreshCmd": "cat(var_dic_list()) "
    }
   },
   "types_to_exclude": [
    "module",
    "function",
    "builtin_function_or_method",
    "instance",
    "_Feature"
   ],
   "window_display": false
  }
 },
 "nbformat": 4,
 "nbformat_minor": 4
}
