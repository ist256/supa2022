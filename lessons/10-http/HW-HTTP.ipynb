{
 "cells": [
  {
   "cell_type": "markdown",
   "metadata": {},
   "source": [
    "# Homework: Sentiment Analysis of Reddit Stories By Title\n",
    "\n",
    "## The Problem\n",
    "\n",
    "In this assignment you're tasked with performing a sentiment analysis on Reddit story titles within a sub-reddit. The goal is to provide a overall \"gist\" as to whether that subreddit is a positive or negative one. \n",
    "\n",
    "If you are unfamiliar with Reddit, here are some API urls to a few sub-reddits:\n",
    "\n",
    "- `worldnews` URL: https://www.reddit.com/r/worldnews/top.json\n",
    "- `writingprompts` URL: https://www.reddit.com/r/writingprompts/top.json\n",
    "- `todayilearned` URL: https://www.reddit.com/r/todayilearned/top.json\n",
    "- `explainlikeimfive` URL: https://www.reddit.com/r/explainlikeimfive/top.json\n",
    "- `politics` URL: https://www.reddit.com/r/politics/top.json\n",
    "\n",
    "From these URLs you should be able to figure out the pattern URL for any given subreddit name such as `news`, or `ama`. Somewhere within the bowles of the API output, you can see the title of each story.\n",
    "\n",
    "Use IPython interact to provide a list of subreddits to choose from (a list will be provided, but you are free to add your own). When an item from the list is selected:\n",
    "\n",
    "- Use the Reddit API to get the titles of the top 25 stories in that subreddit\n",
    "- Combine the titles from all 25 stories into a single paragraph of text\n",
    "- Pass the text to the sentiment analysis API we used in the lab. It is important to send all titles to the sentiment analysis with a single request. If you don't the serive will lock us out.\n",
    "- Print the overall sentiment, each probability (pos, neg, neutral) and the title of each story in the subreddit.\n",
    "\n",
    "\n",
    "\n",
    "\n",
    "HINTS and ADVICE: \n",
    "\n",
    "- Take a bottom up approach; work on the pieces, then assemble them.\n",
    "- Start with sentiment. \n",
    "    - Get that working as a function similar to the lab. You can copy the code from the lab.\n",
    "    - Make sure you can output the overall sentiment, and probababilities for positive, negative and neutral\n",
    "- Next work on fetching the Reddit story titles from the API\n",
    "  - The Reddit api requires you to use a unique `User-Agent` key in the headers of the `get()` request. The value of this key should be `ist256.lesson10.homework:v1.0 (by /u/netid)` where `netid` is your netid, of course.\n",
    "  - Make sure to put a `limit` key on the query string with a value of `25`\n",
    "  - Pick a single subreddit like `https://www.reddit.com/r/worldnews/top.json` and work with that until you can figure out how to fetch the stories.\n",
    "  - Once you've got the stories, figure out how to just get the titles form the stories.\n",
    "  - With everything working, refactor into a function which inputs a subreddit name and outputs the story titles as a list.\n",
    "- Once you have the story titles and sentiment, its time build the main program\n",
    "    - DO NOT get sentiment for each title. If you do this the sentiment API will block us. Instead combine all the titles into a single paragraph with `S.join()` \n",
    "    - Once it all works, feel free to add your own subreddits to the list!\n",
    "  \n",
    "\n",
    "\n",
    "\n"
   ]
  },
  {
   "cell_type": "markdown",
   "metadata": {
    "label": "problem_analysis_cell"
   },
   "source": [
    "## Part 1: Problem Analysis\n",
    "\n",
    "Inputs:\n",
    "\n",
    "```\n",
    "TODO: Inputs\n",
    "```\n",
    "\n",
    "Outputs:\n",
    "\n",
    "```\n",
    "TODO: Outputs\n",
    "```\n",
    "\n",
    "Algorithm (Steps in Program):  \n",
    "\n",
    "```\n",
    "TODO:Steps Here\n",
    "\n",
    "```"
   ]
  },
  {
   "cell_type": "markdown",
   "metadata": {},
   "source": [
    "## Part 2: Code Solution\n",
    "\n",
    "You may write your code in several cells, but place the complete, final working copy of your code solution within this single cell below. Only the within this cell will be considered your solution. Any imports or user-defined functions should be copied into this cell. "
   ]
  },
  {
   "cell_type": "code",
   "execution_count": null,
   "metadata": {
    "label": "code_solution_cell"
   },
   "outputs": [],
   "source": [
    "subreddits=['ama','aww','news','worldnews', 'politics','todayilearned','explainlikeimfive','writingprompts','upliftingnews','wholesomememes','freecompliments','happy','financialadvice','breadit']\n",
    "subreddits.sort()\n",
    "# Step 2: Write code here\n",
    "\n",
    "\n"
   ]
  },
  {
   "cell_type": "markdown",
   "metadata": {
    "label": "homework_questions_cell"
   },
   "source": [
    "## Part 3: Questions\n",
    "\n",
    "1. What happens to this program when you do not have connectivity to the Internet? How can this code be modified to correct the issue?\n",
    "\n",
    "`--== Double-Click and Write Your Answer Below This Line ==--`  \n",
    "\n",
    "\n",
    "2. Most of the subreddits come back with a neutral sentiment score. Does this surprise you? Explain your answer.\n",
    "\n",
    "`--== Double-Click and Write Your Answer Below This Line ==--`  \n",
    "\n",
    "\n",
    "3. In what ways could we improve this program to provide more accurate sentiment?\n",
    "\n",
    "`--== Double-Click and Write Your Answer Below This Line ==--`  \n",
    "\n",
    "\n"
   ]
  },
  {
   "cell_type": "markdown",
   "metadata": {
    "label": "reflection_cell"
   },
   "source": [
    "## Part 4: Reflection\n",
    "\n",
    "Reflect upon your experience completing this assignment. This should be a personal narrative, in your own voice, and cite specifics relevant to the activity as to help the grader understand how you arrived at the code you submitted. Things to consider touching upon: Elaborate on the process itself. Did your original problem analysis work as designed?  How many iterations did you go through before you arrived at the solution? Where did you struggle along the way and how did you overcome it? What did you learn from completing the assignment? What do you need to work on to get better? What was most valuable and least valuable about this exercise? Do you have any suggestions for improvements?\n",
    "\n",
    "To make a good reflection, you should journal your thoughts, questions and comments while you complete the exercise.\n",
    "\n",
    "Keep your response to between 100 and 250 words.\n",
    "\n",
    "`--== Double-Click and Write Your Reflection Below Here ==--`  \n"
   ]
  },
  {
   "cell_type": "code",
   "execution_count": null,
   "metadata": {},
   "outputs": [],
   "source": []
  }
 ],
 "metadata": {
  "anaconda-cloud": {},
  "kernelspec": {
   "display_name": "Python 3 (ipykernel)",
   "language": "python",
   "name": "python3"
  },
  "language_info": {
   "codemirror_mode": {
    "name": "ipython",
    "version": 3
   },
   "file_extension": ".py",
   "mimetype": "text/x-python",
   "name": "python",
   "nbconvert_exporter": "python",
   "pygments_lexer": "ipython3",
   "version": "3.9.7"
  },
  "toc": {
   "base_numbering": 1,
   "nav_menu": {},
   "number_sections": false,
   "sideBar": false,
   "skip_h1_title": false,
   "title_cell": "Table of Contents",
   "title_sidebar": "Contents",
   "toc_cell": false,
   "toc_position": {},
   "toc_section_display": false,
   "toc_window_display": false
  },
  "varInspector": {
   "cols": {
    "lenName": 16,
    "lenType": 16,
    "lenVar": 40
   },
   "kernels_config": {
    "python": {
     "delete_cmd_postfix": "",
     "delete_cmd_prefix": "del ",
     "library": "var_list.py",
     "varRefreshCmd": "print(var_dic_list())"
    },
    "r": {
     "delete_cmd_postfix": ") ",
     "delete_cmd_prefix": "rm(",
     "library": "var_list.r",
     "varRefreshCmd": "cat(var_dic_list()) "
    }
   },
   "types_to_exclude": [
    "module",
    "function",
    "builtin_function_or_method",
    "instance",
    "_Feature"
   ],
   "window_display": false
  }
 },
 "nbformat": 4,
 "nbformat_minor": 4
}
